{
 "cells": [
  {
   "cell_type": "markdown",
   "metadata": {},
   "source": [
    "# Prediction Of Close Prices for Cryptocurrency"
   ]
  },
  {
   "cell_type": "markdown",
   "metadata": {},
   "source": [
    "Cryptocurrency is future of currency and how we do trading. Cryptocurrencies are there from 2013,but at that time people were not interested in decentralized currencies.But due to recent rise of technology and makrket changes, now everyone want to buy cryptocurrency. \n",
    "\n",
    "So today we are going to try to predict the close prices of top three cryptocurrencies using deep learning. Predicting the exact prices is not a simple task. Lot of factors affect the prices next day,but to make things simple here we are just using the Close,Open,High,Low,Volume and Market Cap as features to predict the close price for next day. The data is fetched from https://coinmarketcap.com/ ."
   ]
  },
  {
   "cell_type": "markdown",
   "metadata": {},
   "source": [
    "We will start by importing some useful python packeges. We will use them in our data preparation and model creation and prediction as well."
   ]
  },
  {
   "cell_type": "code",
   "execution_count": 1,
   "metadata": {},
   "outputs": [
    {
     "name": "stderr",
     "output_type": "stream",
     "text": [
      "C:\\Anaconda3\\lib\\site-packages\\h5py\\__init__.py:34: FutureWarning: Conversion of the second argument of issubdtype from `float` to `np.floating` is deprecated. In future, it will be treated as `np.float64 == np.dtype(float).type`.\n",
      "  from ._conv import register_converters as _register_converters\n",
      "Using TensorFlow backend.\n"
     ]
    }
   ],
   "source": [
    "import pandas as pd\n",
    "import time\n",
    "import seaborn as sns\n",
    "import datetime\n",
    "import numpy as np\n",
    "from math import sqrt\n",
    "from matplotlib import pyplot\n",
    "from sklearn.preprocessing import MinMaxScaler\n",
    "from sklearn.preprocessing import LabelEncoder\n",
    "from sklearn.metrics import mean_squared_error\n",
    "from keras.models import Sequential\n",
    "from keras.layers import Dense\n",
    "from keras.layers import LSTM\n",
    "from keras.layers import Activation, Dense"
   ]
  },
  {
   "cell_type": "markdown",
   "metadata": {},
   "source": [
    "# Bitcoin"
   ]
  },
  {
   "cell_type": "markdown",
   "metadata": {},
   "source": [
    "Bitcoins is the oldest cryptocurrency is the market. We can say the oldest got much costlier than it was before. We will fetch the data of bitcoin from this url https://coinmarketcap.com/currencies/bitcoin/historical-data/?start=20130428&end. It is all time data of Bitcoin starting from 2013 to 2018 present day. There are some missing values in data which we will replace with zero for our model building purpose."
   ]
  },
  {
   "cell_type": "code",
   "execution_count": 2,
   "metadata": {},
   "outputs": [
    {
     "data": {
      "text/html": [
       "<div>\n",
       "<style>\n",
       "    .dataframe thead tr:only-child th {\n",
       "        text-align: right;\n",
       "    }\n",
       "\n",
       "    .dataframe thead th {\n",
       "        text-align: left;\n",
       "    }\n",
       "\n",
       "    .dataframe tbody tr th {\n",
       "        vertical-align: top;\n",
       "    }\n",
       "</style>\n",
       "<table border=\"1\" class=\"dataframe\">\n",
       "  <thead>\n",
       "    <tr style=\"text-align: right;\">\n",
       "      <th></th>\n",
       "      <th>Date</th>\n",
       "      <th>Close</th>\n",
       "      <th>Open</th>\n",
       "      <th>High</th>\n",
       "      <th>Low</th>\n",
       "      <th>Volume</th>\n",
       "      <th>Market Cap</th>\n",
       "    </tr>\n",
       "  </thead>\n",
       "  <tbody>\n",
       "    <tr>\n",
       "      <th>0</th>\n",
       "      <td>2018-01-24</td>\n",
       "      <td>11359.4</td>\n",
       "      <td>10903.4</td>\n",
       "      <td>11501.4</td>\n",
       "      <td>10639.8</td>\n",
       "      <td>9940990000</td>\n",
       "      <td>183419000000</td>\n",
       "    </tr>\n",
       "    <tr>\n",
       "      <th>1</th>\n",
       "      <td>2018-01-23</td>\n",
       "      <td>10868.4</td>\n",
       "      <td>10944.5</td>\n",
       "      <td>11377.6</td>\n",
       "      <td>10129.7</td>\n",
       "      <td>9660610000</td>\n",
       "      <td>184087000000</td>\n",
       "    </tr>\n",
       "    <tr>\n",
       "      <th>2</th>\n",
       "      <td>2018-01-22</td>\n",
       "      <td>10931.4</td>\n",
       "      <td>11633.1</td>\n",
       "      <td>11966.4</td>\n",
       "      <td>10240.2</td>\n",
       "      <td>10537400000</td>\n",
       "      <td>195645000000</td>\n",
       "    </tr>\n",
       "    <tr>\n",
       "      <th>3</th>\n",
       "      <td>2018-01-21</td>\n",
       "      <td>11600.1</td>\n",
       "      <td>12889.2</td>\n",
       "      <td>12895.9</td>\n",
       "      <td>11288.2</td>\n",
       "      <td>9935180000</td>\n",
       "      <td>216740000000</td>\n",
       "    </tr>\n",
       "    <tr>\n",
       "      <th>4</th>\n",
       "      <td>2018-01-20</td>\n",
       "      <td>12899.2</td>\n",
       "      <td>11656.2</td>\n",
       "      <td>13103.0</td>\n",
       "      <td>11656.2</td>\n",
       "      <td>11801700000</td>\n",
       "      <td>195979000000</td>\n",
       "    </tr>\n",
       "  </tbody>\n",
       "</table>\n",
       "</div>"
      ],
      "text/plain": [
       "        Date    Close     Open     High      Low       Volume    Market Cap\n",
       "0 2018-01-24  11359.4  10903.4  11501.4  10639.8   9940990000  183419000000\n",
       "1 2018-01-23  10868.4  10944.5  11377.6  10129.7   9660610000  184087000000\n",
       "2 2018-01-22  10931.4  11633.1  11966.4  10240.2  10537400000  195645000000\n",
       "3 2018-01-21  11600.1  12889.2  12895.9  11288.2   9935180000  216740000000\n",
       "4 2018-01-20  12899.2  11656.2  13103.0  11656.2  11801700000  195979000000"
      ]
     },
     "execution_count": 2,
     "metadata": {},
     "output_type": "execute_result"
    }
   ],
   "source": [
    "# get market info for bitcoin from the start of 2016 to the current day\n",
    "bitcoin_market_info = pd.read_html(\"https://coinmarketcap.com/currencies/bitcoin/historical-data/?start=20130428&end=\"+time.strftime(\"%Y%m%d\"))[0]\n",
    "# convert the date string to the correct date format\n",
    "bitcoin_market_info = bitcoin_market_info.assign(Date=pd.to_datetime(bitcoin_market_info['Date']))\n",
    "# when Volume is equal to '-' convert it to 0\n",
    "bitcoin_market_info.loc[bitcoin_market_info['Volume']==\"-\",'Volume']=0\n",
    "# convert to int\n",
    "bitcoin_market_info['Volume'] = bitcoin_market_info['Volume'].astype('int64')\n",
    "# look at the first few rows\n",
    "bitcoin_market_info=bitcoin_market_info[['Date','Close','Open','High','Low','Volume','Market Cap']]\n",
    "bitcoin_market_info.head()"
   ]
  },
  {
   "cell_type": "markdown",
   "metadata": {},
   "source": [
    "The above values are first five days data.AS you can see have latest data from 24 January 2018. So ultimately we are using up to date data for building our model. \n",
    "\n",
    "Now let's normalize the data. As you can see that the values in data are ranging from some 10,000 USD up to some 183,419,000,000, which is really big number to deal with.So we will noramlize data using scikit-learn minmax normalization module. It will normalize the data with mean zero and standard deviation one. Then we can use the data to further processign and model training. "
   ]
  },
  {
   "cell_type": "code",
   "execution_count": 3,
   "metadata": {
    "collapsed": true
   },
   "outputs": [],
   "source": [
    "from sklearn.preprocessing import MinMaxScaler\n",
    "from sklearn.preprocessing import LabelEncoder\n",
    "from sklearn.metrics import mean_squared_error\n",
    "\n",
    "\n",
    "bitcoin_market_info.drop(['Date'],inplace=True,axis=1)\n",
    "#print(bitcoin_market_info.head())\n",
    "scaler = MinMaxScaler(feature_range=(0, 1))\n",
    "scaled = scaler.fit_transform(bitcoin_market_info)"
   ]
  },
  {
   "cell_type": "markdown",
   "metadata": {},
   "source": [
    "In the time series data, data preparation is key part. We can not just use the data directly to train model. So we will twick the data slightly according to our requirment. \n",
    "\n",
    "What we are going to do is like this, we will shift each of the column to one step forward. So for example if the data is of 1 Januar,2018 then the output of that paerticularrow should be data of 2 January,2018. This way we will give present data as input and the future data as output.\n",
    "\n",
    "For doing the above step we are going to define a function which will take care of what we want. It will also drop rows with NaN values,so if we end up with NaN values then also we do not have to worry about it. The details regarding this function can be found here https://machinelearningmastery.com/convert-time-series-supervised-learning-problem-python/ . "
   ]
  },
  {
   "cell_type": "code",
   "execution_count": 4,
   "metadata": {
    "collapsed": true
   },
   "outputs": [],
   "source": [
    "# convert series to supervised learning\n",
    "def series_to_supervised(data, n_in=1, n_out=1, dropnan=True):\n",
    "\t\"\"\"\n",
    "\tFrame a time series as a supervised learning dataset.\n",
    "\tArguments:\n",
    "\t\tdata: Sequence of observations as a list or NumPy array.\n",
    "\t\tn_in: Number of lag observations as input (X).\n",
    "\t\tn_out: Number of observations as output (y).\n",
    "\t\tdropnan: Boolean whether or not to drop rows with NaN values.\n",
    "\tReturns:\n",
    "\t\tPandas DataFrame of series framed for supervised learning.\n",
    "\t\"\"\"\n",
    "\tn_vars = 1 if type(data) is list else data.shape[1]\n",
    "\tdf = pd.DataFrame(data)\n",
    "\tcols, names = list(), list()\n",
    "\t# input sequence (t-n, ... t-1)\n",
    "\tfor i in range(n_in, 0, -1):\n",
    "\t\tcols.append(df.shift(i))\n",
    "\t\tnames += [('var%d(t-%d)' % (j+1, i)) for j in range(n_vars)]\n",
    "\t# forecast sequence (t, t+1, ... t+n)\n",
    "\tfor i in range(0, n_out):\n",
    "\t\tcols.append(df.shift(-i))\n",
    "\t\tif i == 0:\n",
    "\t\t\tnames += [('var%d(t)' % (j+1)) for j in range(n_vars)]\n",
    "\t\telse:\n",
    "\t\t\tnames += [('var%d(t+%d)' % (j+1, i)) for j in range(n_vars)]\n",
    "\t# put it all together\n",
    "\tagg = pd.concat(cols, axis=1)\n",
    "\tagg.columns = names\n",
    "\t# drop rows with NaN values\n",
    "\tif dropnan:\n",
    "\t\tagg.dropna(inplace=True)\n",
    "\treturn agg"
   ]
  },
  {
   "cell_type": "markdown",
   "metadata": {},
   "source": [
    "Now we will use above defined function to reframe our original data."
   ]
  },
  {
   "cell_type": "code",
   "execution_count": 5,
   "metadata": {
    "collapsed": true
   },
   "outputs": [],
   "source": [
    "reframed = series_to_supervised(scaled, 1, 1)"
   ]
  },
  {
   "cell_type": "code",
   "execution_count": 6,
   "metadata": {},
   "outputs": [
    {
     "name": "stdout",
     "output_type": "stream",
     "text": [
      "(1732, 12)\n",
      "(1733, 6)\n"
     ]
    }
   ],
   "source": [
    "print(reframed.shape)\n",
    "print(bitcoin_market_info.shape)"
   ]
  },
  {
   "cell_type": "markdown",
   "metadata": {},
   "source": [
    "You can see the shape of reframed data is different than original data. As now we have stacked next day data to our present day data as output. So we end up with 12 columns instead of 6 as it was in original data. But we do not want to predict all the values for future days. We just want to predict the close price of the next day. So we are going to drop other unnecessary columns from our reframed data. \n",
    "\n",
    "Below is the first five rows of our noramlized as well as reframed data."
   ]
  },
  {
   "cell_type": "code",
   "execution_count": 7,
   "metadata": {},
   "outputs": [
    {
     "name": "stdout",
     "output_type": "stream",
     "text": [
      "   var1(t-1)  var2(t-1)  var3(t-1)  var4(t-1)  var5(t-1)  var6(t-1)   var1(t)\n",
      "1   0.581141   0.558290   0.570930   0.559232   0.416972   0.561344  0.555869\n",
      "2   0.555869   0.560408   0.564744   0.532254   0.405212   0.563397  0.559112\n",
      "3   0.559112   0.595889   0.594163   0.538098   0.441988   0.598920  0.593530\n",
      "4   0.593530   0.660612   0.640604   0.593523   0.416728   0.663756  0.660394\n",
      "5   0.660394   0.597079   0.650952   0.612985   0.495019   0.599947  0.593905\n"
     ]
    }
   ],
   "source": [
    "reframed.drop(reframed.columns[[7,8,9,10,11]], axis=1, inplace=True)\n",
    "print(reframed.head())"
   ]
  },
  {
   "cell_type": "markdown",
   "metadata": {},
   "source": [
    "Now we will separate the data into two groups as training set and test set. We are having 1732 number of examples. So we will use 1500 number ofsamples for trainingpart and then rest of the data as testing part and model evaluation. We will also set the output y as the last column of our data. \n",
    "\n",
    "After splitting we are going to reshape the data into three dimensional shape so that we can use it for training a model. The new shape of the data will be (number of samples * 1 * number of features ). We will follow this shape up to the end of prediction and before feeding data to our model we will normalize and reshape it. "
   ]
  },
  {
   "cell_type": "code",
   "execution_count": 8,
   "metadata": {
    "scrolled": false
   },
   "outputs": [
    {
     "name": "stdout",
     "output_type": "stream",
     "text": [
      "(1500, 1, 6) (1500,) (232, 1, 6) (232,)\n"
     ]
    }
   ],
   "source": [
    "values=reframed.values\n",
    "train = values[:1500, :]\n",
    "test = values[1500:, :]\n",
    "# split into input and outputs\n",
    "train_X, train_y = train[:, :-1], train[:, -1]\n",
    "test_X, test_y = test[:, :-1], test[:, -1]\n",
    "# reshape input to be 3D [samples, timesteps, features]\n",
    "train_X = train_X.reshape((train_X.shape[0], 1, train_X.shape[1]))\n",
    "test_X = test_X.reshape((test_X.shape[0], 1, test_X.shape[1]))\n",
    "print(train_X.shape, train_y.shape, test_X.shape, test_y.shape)"
   ]
  },
  {
   "cell_type": "markdown",
   "metadata": {},
   "source": [
    "Now we have noramlized the data, we have reframed it as supervised learning time-series data, and also we have splitted it in to two groups as well. So it is time to build and train the model. \n",
    "\n",
    "Below is the code for building a model. We are going to use Keras framework to build,train, and predictions. Keras is high level API wrapper framework, so we will be using Tensorflow as backend to it. "
   ]
  },
  {
   "cell_type": "markdown",
   "metadata": {},
   "source": [
    "We are going to use LSTM(Long Short Term Memory) network whichis kind of RNN(Recurrent Neural Network). RNN are widely and most popular neural networkl when it comesto time-series data. You can read more about RNN https://en.wikipedia.org/wiki/Recurrent_neural_network on this wikipedia page. If you like then you can read more about LSTM https://en.wikipedia.org/wiki/Long_short-term_memory here on its wikipedia page. "
   ]
  },
  {
   "cell_type": "markdown",
   "metadata": {},
   "source": [
    "In our LSTM there will be  using 80 number of neurons. And we will plot the loss of our training and testing set with respect to numbeer of epochs. We will use ADAM Optimizer to train the network and the Mean Absolute Error loss as loss function. We will train the network for 50 epochs and then will validate it on test set. "
   ]
  },
  {
   "cell_type": "code",
   "execution_count": 9,
   "metadata": {
    "scrolled": true
   },
   "outputs": [
    {
     "name": "stdout",
     "output_type": "stream",
     "text": [
      "Train on 1500 samples, validate on 232 samples\n",
      "Epoch 1/50\n",
      " - 2s - loss: 0.0682 - val_loss: 0.0076\n",
      "Epoch 2/50\n",
      " - 0s - loss: 0.0547 - val_loss: 0.0057\n",
      "Epoch 3/50\n",
      " - 0s - loss: 0.0372 - val_loss: 0.0129\n",
      "Epoch 4/50\n",
      " - 0s - loss: 0.0228 - val_loss: 0.0090\n",
      "Epoch 5/50\n",
      " - 0s - loss: 0.0061 - val_loss: 0.0072\n",
      "Epoch 6/50\n",
      " - 0s - loss: 0.0052 - val_loss: 0.0054\n",
      "Epoch 7/50\n",
      " - 0s - loss: 0.0044 - val_loss: 0.0035\n",
      "Epoch 8/50\n",
      " - 0s - loss: 0.0057 - val_loss: 0.0072\n",
      "Epoch 9/50\n",
      " - 0s - loss: 0.0068 - val_loss: 0.0023\n",
      "Epoch 10/50\n",
      " - 0s - loss: 0.0080 - val_loss: 0.0069\n",
      "Epoch 11/50\n",
      " - 0s - loss: 0.0047 - val_loss: 0.0020\n",
      "Epoch 12/50\n",
      " - 0s - loss: 0.0054 - val_loss: 0.0067\n",
      "Epoch 13/50\n",
      " - 0s - loss: 0.0065 - val_loss: 0.0015\n",
      "Epoch 14/50\n",
      " - 0s - loss: 0.0065 - val_loss: 0.0065\n",
      "Epoch 15/50\n",
      " - 0s - loss: 0.0046 - val_loss: 0.0026\n",
      "Epoch 16/50\n",
      " - 0s - loss: 0.0052 - val_loss: 0.0059\n",
      "Epoch 17/50\n",
      " - 0s - loss: 0.0068 - val_loss: 0.0019\n",
      "Epoch 18/50\n",
      " - 0s - loss: 0.0061 - val_loss: 0.0057\n",
      "Epoch 19/50\n",
      " - 0s - loss: 0.0043 - val_loss: 0.0018\n",
      "Epoch 20/50\n",
      " - 0s - loss: 0.0052 - val_loss: 0.0049\n",
      "Epoch 21/50\n",
      " - 0s - loss: 0.0058 - val_loss: 0.0011\n",
      "Epoch 22/50\n",
      " - 1s - loss: 0.0052 - val_loss: 0.0042\n",
      "Epoch 23/50\n",
      " - 1s - loss: 0.0053 - val_loss: 8.3230e-04\n",
      "Epoch 24/50\n",
      " - 1s - loss: 0.0050 - val_loss: 0.0053\n",
      "Epoch 25/50\n",
      " - 1s - loss: 0.0069 - val_loss: 0.0015\n",
      "Epoch 26/50\n",
      " - 1s - loss: 0.0050 - val_loss: 0.0053\n",
      "Epoch 27/50\n",
      " - 1s - loss: 0.0045 - val_loss: 0.0023\n",
      "Epoch 28/50\n",
      " - 1s - loss: 0.0034 - val_loss: 0.0059\n",
      "Epoch 29/50\n",
      " - 1s - loss: 0.0072 - val_loss: 0.0020\n",
      "Epoch 30/50\n",
      " - 1s - loss: 0.0046 - val_loss: 0.0053\n",
      "Epoch 31/50\n",
      " - 1s - loss: 0.0053 - val_loss: 0.0011\n",
      "Epoch 32/50\n",
      " - 1s - loss: 0.0034 - val_loss: 0.0044\n",
      "Epoch 33/50\n",
      " - 1s - loss: 0.0053 - val_loss: 9.7570e-04\n",
      "Epoch 34/50\n",
      " - 1s - loss: 0.0036 - val_loss: 0.0048\n",
      "Epoch 35/50\n",
      " - 1s - loss: 0.0069 - val_loss: 0.0013\n",
      "Epoch 36/50\n",
      " - 1s - loss: 0.0043 - val_loss: 0.0049\n",
      "Epoch 37/50\n",
      " - 1s - loss: 0.0042 - val_loss: 0.0022\n",
      "Epoch 38/50\n",
      " - 1s - loss: 0.0031 - val_loss: 0.0048\n",
      "Epoch 39/50\n",
      " - 1s - loss: 0.0059 - val_loss: 0.0011\n",
      "Epoch 40/50\n",
      " - 1s - loss: 0.0034 - val_loss: 0.0046\n",
      "Epoch 41/50\n",
      " - 1s - loss: 0.0068 - val_loss: 0.0016\n",
      "Epoch 42/50\n",
      " - 1s - loss: 0.0042 - val_loss: 0.0050\n",
      "Epoch 43/50\n",
      " - 1s - loss: 0.0047 - val_loss: 0.0022\n",
      "Epoch 44/50\n",
      " - 1s - loss: 0.0028 - val_loss: 0.0054\n",
      "Epoch 45/50\n",
      " - 1s - loss: 0.0068 - val_loss: 0.0018\n",
      "Epoch 46/50\n",
      " - 1s - loss: 0.0040 - val_loss: 0.0048\n",
      "Epoch 47/50\n",
      " - 1s - loss: 0.0041 - val_loss: 0.0019\n",
      "Epoch 48/50\n",
      " - 1s - loss: 0.0032 - val_loss: 0.0047\n",
      "Epoch 49/50\n",
      " - 1s - loss: 0.0056 - val_loss: 0.0017\n",
      "Epoch 50/50\n",
      " - 0s - loss: 0.0038 - val_loss: 0.0059\n"
     ]
    },
    {
     "data": {
      "image/png": "[encoded data removed]",
      "text/plain": [
       "<matplotlib.figure.Figure at 0x12738bb3048>"
      ]
     },
     "metadata": {},
     "output_type": "display_data"
    }
   ],
   "source": [
    "# design network\n",
    "model = Sequential()\n",
    "model.add(LSTM(80, input_shape=(train_X.shape[1], train_X.shape[2])))\n",
    "model.add(Dense(1))\n",
    "model.compile(loss='mae', optimizer='adam')\n",
    "history = model.fit(train_X, train_y, epochs=50, batch_size=32, validation_data=(test_X, test_y), verbose=2, shuffle=False)\n",
    "# plot history\n",
    "pyplot.plot(history.history['loss'], label='train')\n",
    "pyplot.plot(history.history['val_loss'], label='test')\n",
    "pyplot.legend()\n",
    "pyplot.show()"
   ]
  },
  {
   "cell_type": "markdown",
   "metadata": {},
   "source": [
    "Now we will see how our model is performing on test set data. We will use RMSE metric to see how it generalize on test set. "
   ]
  },
  {
   "cell_type": "code",
   "execution_count": 10,
   "metadata": {},
   "outputs": [
    {
     "name": "stdout",
     "output_type": "stream",
     "text": [
      "Test RMSE: 118.397\n"
     ]
    }
   ],
   "source": [
    "# make a prediction\n",
    "yhat = model.predict(test_X)\n",
    "test_X = test_X.reshape((test_X.shape[0], test_X.shape[2]))\n",
    "# invert scaling for forecast\n",
    "inv_yhat = np.concatenate((yhat, test_X[:, 1:]), axis=1)\n",
    "inv_yhat = scaler.inverse_transform(inv_yhat)\n",
    "inv_yhat = inv_yhat[:,0]\n",
    "# invert scaling for actual\n",
    "test_y = test_y.reshape((len(test_y), 1))\n",
    "inv_y = np.concatenate((test_y, test_X[:, 1:]), axis=1)\n",
    "inv_y = scaler.inverse_transform(inv_y)\n",
    "inv_y = inv_y[:,0]\n",
    "# calculate RMSE\n",
    "rmse = sqrt(mean_squared_error(inv_y, inv_yhat))\n",
    "print('Test RMSE: %.3f' % rmse)"
   ]
  },
  {
   "cell_type": "markdown",
   "metadata": {},
   "source": [
    "The error is around 7% on test set.\n",
    "\n",
    "Now let's predict some close price on data to see how far we are in predicting exact prices. We will be using data from 22 January to 16 January 2018 as input data. So the predicted prices should be of 23 January to 17 January 2018. Here we will normalize the data before feeding into model for prediction but we are not going to reframe it because it is 7 days data and we can write close for 7 days by hand easily."
   ]
  },
  {
   "cell_type": "code",
   "execution_count": 11,
   "metadata": {
    "collapsed": true
   },
   "outputs": [],
   "source": [
    "data=np.array([[ 10931.4,11633.1 ,11966.4,10240.2, 10537400000,195645000000],\n",
    "          [11600.1,12889.2,12895.9,11288.2 ,9935180000 ,216740000000],\n",
    "           [12899.2,11656.2,13103.0,11656.2,  11801700000,195979000000],\n",
    "           [11607.4,11429.8,11992.8,11172.1,10740400000,192150000000],\n",
    "           [11474.9 ,11198.8,12107.3 ,10942.5 ,15020400000,188242000000],\n",
    "           [11188.60 ,11431.10, 11678.00 ,9402.29 ,18830600000 ,192123000000],\n",
    "           [11490.50 ,13836.10 ,13843.10 ,10194.90 ,18853800000 ,232517000000]])\n",
    "a=scaler.fit_transform(data)\n",
    "pre=model.predict(a.reshape(data.shape[0],1,6))\n",
    "phat=np.concatenate((pre,a[:,1:]),axis=1)\n",
    "#print(phat)\n",
    "predicted=scaler.inverse_transform(phat)\n",
    "#print(predicted)"
   ]
  },
  {
   "cell_type": "code",
   "execution_count": 12,
   "metadata": {},
   "outputs": [
    {
     "name": "stdout",
     "output_type": "stream",
     "text": [
      "        Date  real_close  predicted_close  Difference  Percentage_change\n",
      "0 2018-01-23     10868.4     11258.940005  327.540005           2.909155\n",
      "1 2018-01-22     10931.4     11988.673822  388.573822           3.241174\n",
      "2 2018-01-21     11600.1     11914.416982  984.783018           8.265474\n",
      "3 2018-01-20     12899.2     11442.222727  165.177273           1.443577\n",
      "4 2018-01-19     11607.4     11397.429375   77.470625           0.679720\n",
      "5 2018-01-18     11474.9     11168.104280   20.495720           0.183520\n",
      "6 2018-01-17     11188.6     12287.548849  797.048849           6.486638\n"
     ]
    }
   ],
   "source": [
    "diff=abs(predicted-data)\n",
    "percentage_diff=(diff/predicted)*100\n",
    "real_close=[10868.40,10931.4,11600.1,12899.2,11607.4,11474.9,11188.6]\n",
    "predicted_close=[]\n",
    "date=[]\n",
    "difference=[]\n",
    "pr_change=[]\n",
    "date=pd.date_range('17-01-2018','23-01-2018',freq='D').sort_values(ascending=False)\n",
    "#print(difference)\n",
    "for i in range(data.shape[0]):\n",
    "    predicted_close.append(predicted[i,0])\n",
    "    difference.append(diff[i,0])\n",
    "    pr_change.append(percentage_diff[i,0])\n",
    "df=pd.DataFrame({'Date':date})\n",
    "df['real_close']=real_close\n",
    "df['predicted_close']=predicted_close\n",
    "df['Difference']=difference\n",
    "df['Percentage_change']=pr_change\n",
    "print(df)"
   ]
  },
  {
   "cell_type": "markdown",
   "metadata": {},
   "source": [
    "In the above dataframe we can see the dates,real close price on that date,predicted price on that date,difference between real and predicted price and the percentage change between real and predicted prices.\n",
    "\n",
    "The highest difference between the real close and predicted close is around 984 USD which is good for simple model that we have created. In terms of percentage it is around 8% which is also a good."
   ]
  },
  {
   "cell_type": "markdown",
   "metadata": {},
   "source": [
    "Now let's try the same approach on the second costliest currency i.e., Ethereum . "
   ]
  },
  {
   "cell_type": "markdown",
   "metadata": {
    "collapsed": true
   },
   "source": [
    "# Ethereum "
   ]
  },
  {
   "cell_type": "markdown",
   "metadata": {},
   "source": [
    "All steps are same as previous one. Just instead of Bitcoin now we are gong to use Ethereum data for train and testing model and then we will predict prices of 7 days for Ethereum as we previously have done for Bitcoin."
   ]
  },
  {
   "cell_type": "markdown",
   "metadata": {},
   "source": [
    "We will directly jump on prediction part and let's see how we are doing on Ethereum."
   ]
  },
  {
   "cell_type": "code",
   "execution_count": 13,
   "metadata": {},
   "outputs": [
    {
     "data": {
      "text/html": [
       "<div>\n",
       "<style>\n",
       "    .dataframe thead tr:only-child th {\n",
       "        text-align: right;\n",
       "    }\n",
       "\n",
       "    .dataframe thead th {\n",
       "        text-align: left;\n",
       "    }\n",
       "\n",
       "    .dataframe tbody tr th {\n",
       "        vertical-align: top;\n",
       "    }\n",
       "</style>\n",
       "<table border=\"1\" class=\"dataframe\">\n",
       "  <thead>\n",
       "    <tr style=\"text-align: right;\">\n",
       "      <th></th>\n",
       "      <th>Date</th>\n",
       "      <th>Close</th>\n",
       "      <th>Open</th>\n",
       "      <th>High</th>\n",
       "      <th>Low</th>\n",
       "      <th>Volume</th>\n",
       "      <th>Market Cap</th>\n",
       "    </tr>\n",
       "  </thead>\n",
       "  <tbody>\n",
       "    <tr>\n",
       "      <th>0</th>\n",
       "      <td>2018-01-24</td>\n",
       "      <td>1058.78</td>\n",
       "      <td>987.48</td>\n",
       "      <td>1062.44</td>\n",
       "      <td>965.81</td>\n",
       "      <td>3944040000</td>\n",
       "      <td>95952700000</td>\n",
       "    </tr>\n",
       "    <tr>\n",
       "      <th>1</th>\n",
       "      <td>2018-01-23</td>\n",
       "      <td>986.23</td>\n",
       "      <td>1004.17</td>\n",
       "      <td>1023.23</td>\n",
       "      <td>920.54</td>\n",
       "      <td>3556700000</td>\n",
       "      <td>97554300000</td>\n",
       "    </tr>\n",
       "    <tr>\n",
       "      <th>2</th>\n",
       "      <td>2018-01-22</td>\n",
       "      <td>1003.26</td>\n",
       "      <td>1055.35</td>\n",
       "      <td>1089.10</td>\n",
       "      <td>930.74</td>\n",
       "      <td>3810100000</td>\n",
       "      <td>102504000000</td>\n",
       "    </tr>\n",
       "    <tr>\n",
       "      <th>3</th>\n",
       "      <td>2018-01-21</td>\n",
       "      <td>1049.58</td>\n",
       "      <td>1155.68</td>\n",
       "      <td>1155.68</td>\n",
       "      <td>1021.50</td>\n",
       "      <td>3378090000</td>\n",
       "      <td>112226000000</td>\n",
       "    </tr>\n",
       "    <tr>\n",
       "      <th>4</th>\n",
       "      <td>2018-01-20</td>\n",
       "      <td>1155.15</td>\n",
       "      <td>1044.95</td>\n",
       "      <td>1167.11</td>\n",
       "      <td>1044.95</td>\n",
       "      <td>3975190000</td>\n",
       "      <td>101451000000</td>\n",
       "    </tr>\n",
       "  </tbody>\n",
       "</table>\n",
       "</div>"
      ],
      "text/plain": [
       "        Date    Close     Open     High      Low      Volume    Market Cap\n",
       "0 2018-01-24  1058.78   987.48  1062.44   965.81  3944040000   95952700000\n",
       "1 2018-01-23   986.23  1004.17  1023.23   920.54  3556700000   97554300000\n",
       "2 2018-01-22  1003.26  1055.35  1089.10   930.74  3810100000  102504000000\n",
       "3 2018-01-21  1049.58  1155.68  1155.68  1021.50  3378090000  112226000000\n",
       "4 2018-01-20  1155.15  1044.95  1167.11  1044.95  3975190000  101451000000"
      ]
     },
     "execution_count": 13,
     "metadata": {},
     "output_type": "execute_result"
    }
   ],
   "source": [
    "# get market info for ethereum from the start of 2016 to the current day\n",
    "eth_market_info = pd.read_html(\"https://coinmarketcap.com/currencies/ethereum/historical-data/?start=20130428&end=\"+time.strftime(\"%Y%m%d\"))[0]\n",
    "# convert the date string to the correct date format\n",
    "eth_market_info = eth_market_info.assign(Date=pd.to_datetime(eth_market_info['Date']))\n",
    "eth_market_info.loc[eth_market_info['Market Cap']==\"-\",'Market Cap']=0\n",
    "# convert to int\n",
    "eth_market_info['Volume'] = eth_market_info['Volume'].astype('int64')\n",
    "# look at the first few rows\n",
    "eth_market_info=eth_market_info[['Date','Close','Open','High','Low','Volume','Market Cap']]\n",
    "eth_market_info.head()"
   ]
  },
  {
   "cell_type": "code",
   "execution_count": 14,
   "metadata": {
    "collapsed": true
   },
   "outputs": [],
   "source": [
    "eth_market_info.drop(['Date'],inplace=True,axis=1)\n",
    "scaler_eth = MinMaxScaler(feature_range=(0, 1))\n",
    "scaled_eth = scaler_eth.fit_transform(eth_market_info)"
   ]
  },
  {
   "cell_type": "code",
   "execution_count": 15,
   "metadata": {},
   "outputs": [
    {
     "name": "stdout",
     "output_type": "stream",
     "text": [
      "(901, 12)\n",
      "(902, 6)\n"
     ]
    }
   ],
   "source": [
    "reframed_eth = series_to_supervised(scaled_eth, 1, 1)\n",
    "print(reframed_eth.shape)\n",
    "print(eth_market_info.shape)"
   ]
  },
  {
   "cell_type": "code",
   "execution_count": 16,
   "metadata": {},
   "outputs": [
    {
     "name": "stdout",
     "output_type": "stream",
     "text": [
      "(800, 1, 6) (800,) (101, 1, 6) (101,)\n"
     ]
    }
   ],
   "source": [
    "reframed_eth.drop(reframed_eth.columns[[7,8,9,10,11]], axis=1, inplace=True)\n",
    "values_eth=reframed_eth.values\n",
    "train_eth = values_eth[:800, :]\n",
    "test_eth = values_eth[800:, :]\n",
    "# split into input and outputs\n",
    "train_X_eth, train_y_eth = train_eth[:, :-1], train_eth[:, -1]\n",
    "test_X_eth, test_y_eth = test_eth[:, :-1], test_eth[:, -1]\n",
    "# reshape input to be 3D [samples, timesteps, features]\n",
    "train_X_eth = train_X_eth.reshape((train_X_eth.shape[0], 1, train_X_eth.shape[1]))\n",
    "test_X_eth = test_X_eth.reshape((test_X_eth.shape[0], 1, test_X_eth.shape[1]))\n",
    "print(train_X_eth.shape, train_y_eth.shape, test_X_eth.shape, test_y_eth.shape)"
   ]
  },
  {
   "cell_type": "code",
   "execution_count": 17,
   "metadata": {
    "scrolled": true
   },
   "outputs": [
    {
     "name": "stdout",
     "output_type": "stream",
     "text": [
      "Train on 800 samples, validate on 101 samples\n",
      "Epoch 1/50\n",
      " - 1s - loss: 0.1022 - val_loss: 0.0159\n",
      "Epoch 2/50\n",
      " - 0s - loss: 0.0716 - val_loss: 0.0037\n",
      "Epoch 3/50\n",
      " - 0s - loss: 0.0564 - val_loss: 0.0024\n",
      "Epoch 4/50\n",
      " - 0s - loss: 0.0330 - val_loss: 0.0045\n",
      "Epoch 5/50\n",
      " - 0s - loss: 0.0083 - val_loss: 5.1459e-04\n",
      "Epoch 6/50\n",
      " - 0s - loss: 0.0129 - val_loss: 0.0029\n",
      "Epoch 7/50\n",
      " - 0s - loss: 0.0076 - val_loss: 0.0011\n",
      "Epoch 8/50\n",
      " - 0s - loss: 0.0081 - val_loss: 6.0998e-04\n",
      "Epoch 9/50\n",
      " - 0s - loss: 0.0064 - val_loss: 0.0014\n",
      "Epoch 10/50\n",
      " - 0s - loss: 0.0060 - val_loss: 0.0018\n",
      "Epoch 11/50\n",
      " - 0s - loss: 0.0046 - val_loss: 3.0620e-04\n",
      "Epoch 12/50\n",
      " - 0s - loss: 0.0057 - val_loss: 8.5157e-04\n",
      "Epoch 13/50\n",
      " - 0s - loss: 0.0050 - val_loss: 8.0600e-04\n",
      "Epoch 14/50\n",
      " - 0s - loss: 0.0052 - val_loss: 0.0010\n",
      "Epoch 15/50\n",
      " - 0s - loss: 0.0048 - val_loss: 0.0013\n",
      "Epoch 16/50\n",
      " - 0s - loss: 0.0085 - val_loss: 0.0011\n",
      "Epoch 17/50\n",
      " - 0s - loss: 0.0082 - val_loss: 0.0022\n",
      "Epoch 18/50\n",
      " - 0s - loss: 0.0049 - val_loss: 0.0015\n",
      "Epoch 19/50\n",
      " - 0s - loss: 0.0102 - val_loss: 8.4439e-04\n",
      "Epoch 20/50\n",
      " - 0s - loss: 0.0077 - val_loss: 4.9310e-05\n",
      "Epoch 21/50\n",
      " - 0s - loss: 0.0136 - val_loss: 0.0051\n",
      "Epoch 22/50\n",
      " - 0s - loss: 0.0078 - val_loss: 0.0016\n",
      "Epoch 23/50\n",
      " - 0s - loss: 0.0046 - val_loss: 1.2972e-04\n",
      "Epoch 24/50\n",
      " - 0s - loss: 0.0039 - val_loss: 0.0015\n",
      "Epoch 25/50\n",
      " - 0s - loss: 0.0038 - val_loss: 0.0012\n",
      "Epoch 26/50\n",
      " - 0s - loss: 0.0053 - val_loss: 8.9199e-05\n",
      "Epoch 27/50\n",
      " - 0s - loss: 0.0040 - val_loss: 0.0017\n",
      "Epoch 28/50\n",
      " - 0s - loss: 0.0046 - val_loss: 0.0013\n",
      "Epoch 29/50\n",
      " - 0s - loss: 0.0057 - val_loss: 5.4502e-05\n",
      "Epoch 30/50\n",
      " - 0s - loss: 0.0077 - val_loss: 8.0873e-04\n",
      "Epoch 31/50\n",
      " - 0s - loss: 0.0100 - val_loss: 9.3700e-04\n",
      "Epoch 32/50\n",
      " - 0s - loss: 0.0055 - val_loss: 0.0011\n",
      "Epoch 33/50\n",
      " - 0s - loss: 0.0079 - val_loss: 0.0026\n",
      "Epoch 34/50\n",
      " - 0s - loss: 0.0073 - val_loss: 3.7754e-04\n",
      "Epoch 35/50\n",
      " - 0s - loss: 0.0116 - val_loss: 0.0032\n",
      "Epoch 36/50\n",
      " - 0s - loss: 0.0084 - val_loss: 0.0023\n",
      "Epoch 37/50\n",
      " - 0s - loss: 0.0074 - val_loss: 0.0021\n",
      "Epoch 38/50\n",
      " - 0s - loss: 0.0082 - val_loss: 0.0010\n",
      "Epoch 39/50\n",
      " - 0s - loss: 0.0094 - val_loss: 0.0011\n",
      "Epoch 40/50\n",
      " - 0s - loss: 0.0056 - val_loss: 6.8952e-04\n",
      "Epoch 41/50\n",
      " - 0s - loss: 0.0071 - val_loss: 0.0018\n",
      "Epoch 42/50\n",
      " - 0s - loss: 0.0073 - val_loss: 4.1030e-04\n",
      "Epoch 43/50\n",
      " - 0s - loss: 0.0086 - val_loss: 0.0019\n",
      "Epoch 44/50\n",
      " - 0s - loss: 0.0053 - val_loss: 0.0012\n",
      "Epoch 45/50\n",
      " - 0s - loss: 0.0060 - val_loss: 1.3989e-04\n",
      "Epoch 46/50\n",
      " - 0s - loss: 0.0084 - val_loss: 8.7275e-04\n",
      "Epoch 47/50\n",
      " - 0s - loss: 0.0034 - val_loss: 6.9207e-04\n",
      "Epoch 48/50\n",
      " - 0s - loss: 0.0060 - val_loss: 4.8380e-04\n",
      "Epoch 49/50\n",
      " - 0s - loss: 0.0064 - val_loss: 0.0020\n",
      "Epoch 50/50\n",
      " - 0s - loss: 0.0051 - val_loss: 1.6870e-04\n"
     ]
    },
    {
     "data": {
      "image/png": "[encoded data removed]",
      "text/plain": [
       "<matplotlib.figure.Figure at 0x12739e35b00>"
      ]
     },
     "metadata": {},
     "output_type": "display_data"
    }
   ],
   "source": [
    "# design network\n",
    "model = Sequential()\n",
    "model.add(LSTM(75, input_shape=(train_X_eth.shape[1], train_X_eth.shape[2])))\n",
    "model.add(Dense(1))\n",
    "model.compile(loss='mae', optimizer='adam')\n",
    "history = model.fit(train_X_eth, train_y_eth, epochs=50, batch_size=32, validation_data=(test_X_eth, test_y_eth), verbose=2, shuffle=False)\n",
    "# plot history\n",
    "pyplot.plot(history.history['loss'], label='train')\n",
    "pyplot.plot(history.history['val_loss'], label='test')\n",
    "pyplot.legend()\n",
    "pyplot.show()"
   ]
  },
  {
   "cell_type": "code",
   "execution_count": 18,
   "metadata": {},
   "outputs": [
    {
     "name": "stdout",
     "output_type": "stream",
     "text": [
      "Test RMSE: 0.244\n"
     ]
    }
   ],
   "source": [
    "# make a prediction\n",
    "yhat_eth = model.predict(test_X_eth)\n",
    "test_X_eth = test_X_eth.reshape((test_X_eth.shape[0], test_X_eth.shape[2]))\n",
    "# invert scaling for forecast\n",
    "inv_yhat_eth = np.concatenate((yhat_eth, test_X_eth[:, 1:]), axis=1)\n",
    "inv_yhat_eth = scaler_eth.inverse_transform(inv_yhat_eth)\n",
    "inv_yhat_eth = inv_yhat_eth[:,0]\n",
    "# invert scaling for actual\n",
    "test_y_eth = test_y_eth.reshape((len(test_y_eth), 1))\n",
    "inv_y_eth = np.concatenate((test_y_eth, test_X_eth[:, 1:]), axis=1)\n",
    "inv_y_eth = scaler_eth.inverse_transform(inv_y_eth)\n",
    "inv_y_eth = inv_y_eth[:,0]\n",
    "# calculate RMSE\n",
    "rmse = sqrt(mean_squared_error(inv_y_eth, inv_yhat_eth))\n",
    "print('Test RMSE: %.3f' % rmse)"
   ]
  },
  {
   "cell_type": "markdown",
   "metadata": {},
   "source": [
    "We will use 7 days data from 16 January up to 22 January 2018 and we will get the predicted prices for 17 January up to 23 January 2018. Here also we will just normalize the data and the we will write down the future pricesby hand. No reframe of data will be done. "
   ]
  },
  {
   "cell_type": "code",
   "execution_count": 19,
   "metadata": {
    "collapsed": true
   },
   "outputs": [],
   "source": [
    "data_eth=np.array([[1003.26 ,1055.35 ,1089.10 ,930.74 ,3810100000 ,102504000000],\n",
    "          [1049.58 ,1155.68 ,1155.68 ,1021.50 ,3378090000 ,112226000000],\n",
    "           [1155.15 ,1044.95 ,1167.11 ,1044.95 ,3975190000 ,101451000000],\n",
    "           [1039.10 ,1028.82 ,1093.22 ,1003.71 ,4084450000 ,99863900000],\n",
    "           [1036.28,1016.44 ,1100.31 ,967.76 , 5938320000 ,98642100000],\n",
    "           [1014.25,1061.34 ,1090.23 ,780.92 ,8545160000 ,102974000000],\n",
    "           [1053.69,1292.63,1292.63 ,875.55,8405140000,125389000000]])\n",
    "a_eth=scaler_eth.fit_transform(data_eth)\n",
    "pre=model.predict(a_eth.reshape(data_eth.shape[0],1,6))\n",
    "phat_eth=np.concatenate((pre,a_eth[:,1:]),axis=1)\n",
    "#print(phat)\n",
    "predicted_eth=scaler_eth.inverse_transform(phat_eth)"
   ]
  },
  {
   "cell_type": "code",
   "execution_count": 20,
   "metadata": {},
   "outputs": [
    {
     "name": "stdout",
     "output_type": "stream",
     "text": [
      "        Date  real_close  predicted_close  Difference  Percentage_change\n",
      "0 2018-01-23      986.23      1031.813741   28.553741           2.767335\n",
      "1 2018-01-22     1003.26      1086.789434   37.209434           3.423794\n",
      "2 2018-01-21     1049.58      1082.914139   72.235861           6.670507\n",
      "3 2018-01-20     1155.15      1041.277903    2.177903           0.209157\n",
      "4 2018-01-19     1039.10      1036.397529    0.117529           0.011340\n",
      "5 2018-01-18     1036.28      1023.176708    8.926708           0.872450\n",
      "6 2018-01-17     1014.25      1128.203719   74.513719           6.604633\n"
     ]
    }
   ],
   "source": [
    "diff_eth=abs(predicted_eth-data_eth)\n",
    "percentage_diff_eth=(diff_eth/predicted_eth)*100\n",
    "real_close_eth=[986.23,1003.26,1049.58,1155.15,1039.10,1036.28,1014.25]\n",
    "predicted_close_eth=[]\n",
    "difference_eth=[]\n",
    "pr_change_eth=[]\n",
    "date_eth=pd.date_range('17-01-2018','23-01-2018',freq='D').sort_values(ascending=False)\n",
    "#print(date_eth)\n",
    "for i in range(data_eth.shape[0]):\n",
    "    predicted_close_eth.append(predicted_eth[i,0])\n",
    "    difference_eth.append(diff_eth[i,0])\n",
    "    pr_change_eth.append(percentage_diff_eth[i,0])\n",
    "df_eth=pd.DataFrame({'Date':date_eth})\n",
    "df_eth['real_close']=real_close_eth\n",
    "df_eth['predicted_close']=predicted_close_eth\n",
    "df_eth['Difference']=difference_eth\n",
    "df_eth['Percentage_change']=pr_change_eth\n",
    "print(df_eth)"
   ]
  },
  {
   "cell_type": "markdown",
   "metadata": {},
   "source": [
    "In the above dataframe we can see that the real and predicted prices are really close to each other. The highest difference is 74 USD with 6% change or difference. Though for model with this much complexity it is realy good. "
   ]
  },
  {
   "cell_type": "markdown",
   "metadata": {},
   "source": [
    "Now let's do one more example on Ripple which is the third highest rated cryptocurrency in the world right now. "
   ]
  },
  {
   "cell_type": "markdown",
   "metadata": {},
   "source": [
    "# Ripple"
   ]
  },
  {
   "cell_type": "markdown",
   "metadata": {},
   "source": [
    "Here we will fetch the data of Ripple and then we will trian LSTM to predict future close prices. We will see how our model is doing in terms of perfroramce on 7 days of data."
   ]
  },
  {
   "cell_type": "markdown",
   "metadata": {},
   "source": [
    "We are skipping the explaination of code blocks here as it is mostly similar to Bitcoin one. So let's jump on prediction part and see how our model predicts prices for future day using present data."
   ]
  },
  {
   "cell_type": "code",
   "execution_count": 21,
   "metadata": {},
   "outputs": [
    {
     "data": {
      "text/html": [
       "<div>\n",
       "<style>\n",
       "    .dataframe thead tr:only-child th {\n",
       "        text-align: right;\n",
       "    }\n",
       "\n",
       "    .dataframe thead th {\n",
       "        text-align: left;\n",
       "    }\n",
       "\n",
       "    .dataframe tbody tr th {\n",
       "        vertical-align: top;\n",
       "    }\n",
       "</style>\n",
       "<table border=\"1\" class=\"dataframe\">\n",
       "  <thead>\n",
       "    <tr style=\"text-align: right;\">\n",
       "      <th></th>\n",
       "      <th>Date</th>\n",
       "      <th>Close</th>\n",
       "      <th>Open</th>\n",
       "      <th>High</th>\n",
       "      <th>Low</th>\n",
       "      <th>Volume</th>\n",
       "      <th>Market Cap</th>\n",
       "    </tr>\n",
       "  </thead>\n",
       "  <tbody>\n",
       "    <tr>\n",
       "      <th>0</th>\n",
       "      <td>2018-01-24</td>\n",
       "      <td>1.36</td>\n",
       "      <td>1.35</td>\n",
       "      <td>1.42</td>\n",
       "      <td>1.31</td>\n",
       "      <td>1853440000</td>\n",
       "      <td>52380100000</td>\n",
       "    </tr>\n",
       "    <tr>\n",
       "      <th>1</th>\n",
       "      <td>2018-01-23</td>\n",
       "      <td>1.34</td>\n",
       "      <td>1.35</td>\n",
       "      <td>1.43</td>\n",
       "      <td>1.20</td>\n",
       "      <td>2977080000</td>\n",
       "      <td>52421300000</td>\n",
       "    </tr>\n",
       "    <tr>\n",
       "      <th>2</th>\n",
       "      <td>2018-01-22</td>\n",
       "      <td>1.36</td>\n",
       "      <td>1.39</td>\n",
       "      <td>1.43</td>\n",
       "      <td>1.16</td>\n",
       "      <td>2642510000</td>\n",
       "      <td>53909800000</td>\n",
       "    </tr>\n",
       "    <tr>\n",
       "      <th>3</th>\n",
       "      <td>2018-01-21</td>\n",
       "      <td>1.38</td>\n",
       "      <td>1.58</td>\n",
       "      <td>1.58</td>\n",
       "      <td>1.34</td>\n",
       "      <td>2840750000</td>\n",
       "      <td>61061900000</td>\n",
       "    </tr>\n",
       "    <tr>\n",
       "      <th>4</th>\n",
       "      <td>2018-01-20</td>\n",
       "      <td>1.58</td>\n",
       "      <td>1.56</td>\n",
       "      <td>1.63</td>\n",
       "      <td>1.50</td>\n",
       "      <td>2346450000</td>\n",
       "      <td>60543000000</td>\n",
       "    </tr>\n",
       "  </tbody>\n",
       "</table>\n",
       "</div>"
      ],
      "text/plain": [
       "        Date  Close  Open  High   Low      Volume   Market Cap\n",
       "0 2018-01-24   1.36  1.35  1.42  1.31  1853440000  52380100000\n",
       "1 2018-01-23   1.34  1.35  1.43  1.20  2977080000  52421300000\n",
       "2 2018-01-22   1.36  1.39  1.43  1.16  2642510000  53909800000\n",
       "3 2018-01-21   1.38  1.58  1.58  1.34  2840750000  61061900000\n",
       "4 2018-01-20   1.58  1.56  1.63  1.50  2346450000  60543000000"
      ]
     },
     "execution_count": 21,
     "metadata": {},
     "output_type": "execute_result"
    }
   ],
   "source": [
    "# get market info for bitcoin from the start of 2016 to the current day\n",
    "ripple_market_info = pd.read_html(\"https://coinmarketcap.com/currencies/ripple/historical-data/?start=20130428&end=20180124\"+time.strftime(\"%Y%m%d\"))[0]\n",
    "# convert the date string to the correct date format\n",
    "ripple_market_info = ripple_market_info.assign(Date=pd.to_datetime(ripple_market_info['Date']))\n",
    "# when Volume is equal to '-' convert it to 0\n",
    "ripple_market_info.loc[ripple_market_info['Volume']==\"-\",'Volume']=0\n",
    "# convert to int\n",
    "ripple_market_info['Volume'] = ripple_market_info['Volume'].astype('int64')\n",
    "# look at the first few rows\n",
    "ripple_market_info=ripple_market_info[['Date','Close','Open','High','Low','Volume','Market Cap']]\n",
    "ripple_market_info.head()"
   ]
  },
  {
   "cell_type": "code",
   "execution_count": 22,
   "metadata": {
    "collapsed": true
   },
   "outputs": [],
   "source": [
    "ripple_market_info.drop(['Date'],inplace=True,axis=1)\n",
    "scaler_rip = MinMaxScaler(feature_range=(0, 1))\n",
    "scaled_rip = scaler_rip.fit_transform(ripple_market_info)\n",
    "#print(scaled_rip)"
   ]
  },
  {
   "cell_type": "code",
   "execution_count": 23,
   "metadata": {},
   "outputs": [
    {
     "name": "stdout",
     "output_type": "stream",
     "text": [
      "(1634, 12)\n",
      "(1635, 6)\n"
     ]
    }
   ],
   "source": [
    "reframed_rip = series_to_supervised(scaled_rip, 1, 1)\n",
    "print(reframed_rip.shape)\n",
    "print(ripple_market_info.shape)"
   ]
  },
  {
   "cell_type": "code",
   "execution_count": 24,
   "metadata": {},
   "outputs": [
    {
     "name": "stdout",
     "output_type": "stream",
     "text": [
      "(1500, 1, 6) (1500,) (134, 1, 6) (134,)\n"
     ]
    }
   ],
   "source": [
    "reframed_rip.drop(reframed_rip.columns[[7,8,9,10,11]], axis=1, inplace=True)\n",
    "values_rip=reframed_rip.values\n",
    "train_rip = values_rip[:1500, :]\n",
    "test_rip = values_rip[1500:, :]\n",
    "# split into input and outputs\n",
    "train_X_rip, train_y_rip = train_rip[:, :-1], train_rip[:, -1]\n",
    "test_X_rip, test_y_rip = test_rip[:, :-1], test_rip[:, -1]\n",
    "# reshape input to be 3D [samples, timesteps, features]\n",
    "train_X_rip = train_X_rip.reshape((train_X_rip.shape[0], 1, train_X_rip.shape[1]))\n",
    "test_X_rip = test_X_rip.reshape((test_X_rip.shape[0], 1, test_X_rip.shape[1]))\n",
    "print(train_X_rip.shape, train_y_rip.shape, test_X_rip.shape, test_y_rip.shape)"
   ]
  },
  {
   "cell_type": "code",
   "execution_count": 25,
   "metadata": {
    "scrolled": true
   },
   "outputs": [
    {
     "name": "stdout",
     "output_type": "stream",
     "text": [
      "Train on 1500 samples, validate on 134 samples\n",
      "Epoch 1/50\n",
      " - 2s - loss: 0.0338 - val_loss: 0.0039\n",
      "Epoch 2/50\n",
      " - 0s - loss: 0.0267 - val_loss: 0.0016\n",
      "Epoch 3/50\n",
      " - 0s - loss: 0.0220 - val_loss: 0.0019\n",
      "Epoch 4/50\n",
      " - 0s - loss: 0.0156 - val_loss: 0.0023\n",
      "Epoch 5/50\n",
      " - 0s - loss: 0.0143 - val_loss: 0.0016\n",
      "Epoch 6/50\n",
      " - 0s - loss: 0.0039 - val_loss: 0.0013\n",
      "Epoch 7/50\n",
      " - 1s - loss: 0.0034 - val_loss: 0.0021\n",
      "Epoch 8/50\n",
      " - 1s - loss: 0.0039 - val_loss: 0.0012\n",
      "Epoch 9/50\n",
      " - 1s - loss: 0.0031 - val_loss: 0.0017\n",
      "Epoch 10/50\n",
      " - 1s - loss: 0.0033 - val_loss: 0.0012\n",
      "Epoch 11/50\n",
      " - 1s - loss: 0.0031 - val_loss: 0.0014\n",
      "Epoch 12/50\n",
      " - 0s - loss: 0.0023 - val_loss: 0.0013\n",
      "Epoch 13/50\n",
      " - 0s - loss: 0.0027 - val_loss: 0.0024\n",
      "Epoch 14/50\n",
      " - 0s - loss: 0.0021 - val_loss: 0.0014\n",
      "Epoch 15/50\n",
      " - 1s - loss: 0.0022 - val_loss: 0.0017\n",
      "Epoch 16/50\n",
      " - 1s - loss: 0.0025 - val_loss: 0.0016\n",
      "Epoch 17/50\n",
      " - 1s - loss: 0.0026 - val_loss: 0.0024\n",
      "Epoch 18/50\n",
      " - 1s - loss: 0.0019 - val_loss: 9.3465e-04\n",
      "Epoch 19/50\n",
      " - 1s - loss: 0.0021 - val_loss: 0.0014\n",
      "Epoch 20/50\n",
      " - 1s - loss: 0.0021 - val_loss: 8.8559e-04\n",
      "Epoch 21/50\n",
      " - 1s - loss: 0.0017 - val_loss: 0.0016\n",
      "Epoch 22/50\n",
      " - 1s - loss: 0.0019 - val_loss: 9.3096e-04\n",
      "Epoch 23/50\n",
      " - 1s - loss: 0.0030 - val_loss: 0.0013\n",
      "Epoch 24/50\n",
      " - 1s - loss: 0.0024 - val_loss: 0.0010\n",
      "Epoch 25/50\n",
      " - 1s - loss: 0.0024 - val_loss: 0.0023\n",
      "Epoch 26/50\n",
      " - 0s - loss: 0.0021 - val_loss: 0.0012\n",
      "Epoch 27/50\n",
      " - 0s - loss: 0.0027 - val_loss: 0.0022\n",
      "Epoch 28/50\n",
      " - 0s - loss: 0.0023 - val_loss: 0.0013\n",
      "Epoch 29/50\n",
      " - 0s - loss: 0.0024 - val_loss: 0.0022\n",
      "Epoch 30/50\n",
      " - 0s - loss: 0.0017 - val_loss: 7.0782e-04\n",
      "Epoch 31/50\n",
      " - 0s - loss: 0.0024 - val_loss: 7.7960e-04\n",
      "Epoch 32/50\n",
      " - 0s - loss: 0.0021 - val_loss: 0.0016\n",
      "Epoch 33/50\n",
      " - 0s - loss: 0.0028 - val_loss: 0.0019\n",
      "Epoch 34/50\n",
      " - 0s - loss: 0.0021 - val_loss: 0.0013\n",
      "Epoch 35/50\n",
      " - 0s - loss: 0.0028 - val_loss: 0.0017\n",
      "Epoch 36/50\n",
      " - 0s - loss: 0.0031 - val_loss: 0.0019\n",
      "Epoch 37/50\n",
      " - 0s - loss: 0.0021 - val_loss: 0.0015\n",
      "Epoch 38/50\n",
      " - 0s - loss: 0.0018 - val_loss: 6.6540e-04\n",
      "Epoch 39/50\n",
      " - 0s - loss: 0.0025 - val_loss: 9.1719e-04\n",
      "Epoch 40/50\n",
      " - 0s - loss: 0.0036 - val_loss: 5.1937e-04\n",
      "Epoch 41/50\n",
      " - 0s - loss: 0.0027 - val_loss: 0.0013\n",
      "Epoch 42/50\n",
      " - 0s - loss: 0.0024 - val_loss: 5.7768e-04\n",
      "Epoch 43/50\n",
      " - 0s - loss: 0.0022 - val_loss: 0.0019\n",
      "Epoch 44/50\n",
      " - 0s - loss: 0.0017 - val_loss: 0.0015\n",
      "Epoch 45/50\n",
      " - 0s - loss: 0.0018 - val_loss: 0.0020\n",
      "Epoch 46/50\n",
      " - 0s - loss: 0.0018 - val_loss: 0.0017\n",
      "Epoch 47/50\n",
      " - 0s - loss: 0.0022 - val_loss: 0.0011\n",
      "Epoch 48/50\n",
      " - 0s - loss: 0.0016 - val_loss: 0.0016\n",
      "Epoch 49/50\n",
      " - 0s - loss: 0.0021 - val_loss: 0.0020\n",
      "Epoch 50/50\n",
      " - 0s - loss: 0.0022 - val_loss: 0.0014\n"
     ]
    },
    {
     "data": {
      "image/png": "[encoded data removed]",
      "text/plain": [
       "<matplotlib.figure.Figure at 0x127551afdd8>"
      ]
     },
     "metadata": {},
     "output_type": "display_data"
    }
   ],
   "source": [
    "# design network\n",
    "model = Sequential()\n",
    "model.add(LSTM(75, input_shape=(train_X_rip.shape[1], train_X_rip.shape[2])))\n",
    "model.add(Dense(1))\n",
    "model.compile(loss='mae', optimizer='adam')\n",
    "history = model.fit(train_X_rip, train_y_rip, epochs=50, batch_size=32, validation_data=(test_X_rip, test_y_rip), verbose=2, shuffle=False)\n",
    "# plot history\n",
    "pyplot.plot(history.history['loss'], label='train')\n",
    "pyplot.plot(history.history['val_loss'], label='test')\n",
    "pyplot.legend()\n",
    "pyplot.show()"
   ]
  },
  {
   "cell_type": "code",
   "execution_count": 26,
   "metadata": {},
   "outputs": [
    {
     "name": "stdout",
     "output_type": "stream",
     "text": [
      "Test RMSE: 0.005\n"
     ]
    }
   ],
   "source": [
    "# make a prediction\n",
    "yhat_rip = model.predict(test_X_rip)\n",
    "test_X_rip = test_X_rip.reshape((test_X_rip.shape[0], test_X_rip.shape[2]))\n",
    "# invert scaling for forecast\n",
    "inv_yhat_rip = np.concatenate((yhat_rip, test_X_rip[:, 1:]), axis=1)\n",
    "inv_yhat_rip = scaler_rip.inverse_transform(inv_yhat_rip)\n",
    "inv_yhat_rip = inv_yhat_rip[:,0]\n",
    "# invert scaling for actual\n",
    "test_y_rip = test_y_rip.reshape((len(test_y_rip), 1))\n",
    "inv_y_rip = np.concatenate((test_y_rip, test_X_rip[:, 1:]), axis=1)\n",
    "inv_y_rip = scaler_rip.inverse_transform(inv_y_rip)\n",
    "inv_y_rip = inv_y_rip[:,0]\n",
    "# calculate RMSE\n",
    "rmse = sqrt(mean_squared_error(inv_y_rip, inv_yhat_rip))\n",
    "print('Test RMSE: %.3f' % rmse)"
   ]
  },
  {
   "cell_type": "markdown",
   "metadata": {},
   "source": [
    "For Ripple our RMSE is really close to zero, which is good according to our simple model.\n",
    "\n",
    "Now let's make some prediction. This time we are taking data from 8 January to 14 January,2018 so the predicted prices will be from the day 9 January to 15 January ,2018. At last we will compare the real prices and the predicted prices with difference and percentage change between real and predicted prices. "
   ]
  },
  {
   "cell_type": "code",
   "execution_count": 27,
   "metadata": {
    "collapsed": true
   },
   "outputs": [],
   "source": [
    "data_rip=np.array([[1.86,2.02,2.02 ,1.81,1978200000 ,78195800000],\n",
    "           [2.02,2.05,2.12 ,1.98,2130170000 ,79469700000],\n",
    "           [2.04 ,1.94 ,2.16 ,1.87 ,3330810000,75172500000],\n",
    "           [1.95,1.98,2.25,1.62 ,6296120000 ,76711800000],\n",
    "           [1.97,2.13,2.16 ,1.70,4833640000 ,82511000000],\n",
    "           [2.10,2.44,2.53,1.98,3694700000 ,94657500000],\n",
    "           [2.46,3.36,3.36 ,2.07,3315260000,130302000000]])\n",
    "a_rip=scaler_rip.fit_transform(data_rip)\n",
    "pre_rip=model.predict(a_rip.reshape(data_rip.shape[0],1,6))\n",
    "phat_rip=np.concatenate((pre_rip,a_rip[:,1:]),axis=1)\n",
    "#print(phat)\n",
    "predicted_rip=scaler_rip.inverse_transform(phat_rip)"
   ]
  },
  {
   "cell_type": "code",
   "execution_count": 28,
   "metadata": {},
   "outputs": [
    {
     "name": "stdout",
     "output_type": "stream",
     "text": [
      "        Date  real_close  predicted_close  Difference  Percentage_change\n",
      "0 2018-01-15        1.68         1.923378    0.063378           3.295157\n",
      "1 2018-01-14        1.86         2.000666    0.019334           0.966399\n",
      "2 2018-01-13        2.02         1.953523    0.086477           4.426737\n",
      "3 2018-01-12        2.04         1.891548    0.058452           3.090190\n",
      "4 2018-01-11        1.95         1.942249    0.027751           1.428821\n",
      "5 2018-01-10        1.97         2.127551    0.027551           1.294978\n",
      "6 2018-01-09        2.10         2.475878    0.015878           0.641309\n"
     ]
    }
   ],
   "source": [
    "diff_rip=abs(predicted_rip-data_rip)\n",
    "percentage_diff_rip=(diff_rip/predicted_rip)*100\n",
    "real_close_rip=[1.68,1.86,2.02,2.04,1.95,1.97,2.10]\n",
    "predicted_close_rip=[]\n",
    "difference_rip=[]\n",
    "pr_change_rip=[]\n",
    "dates=pd.date_range(start='01-09-2018',end='01-15-2018',freq='D').sort_values(ascending=False)\n",
    "#print(dates)\n",
    "for i in range(data_rip.shape[0]):\n",
    "    predicted_close_rip.append(predicted_rip[i,0])\n",
    "    difference_rip.append(diff_rip[i,0])\n",
    "    pr_change_rip.append(percentage_diff_rip[i,0])\n",
    "val=np.array(pr_change_rip)\n",
    "val=np.mean(val,axis=0)\n",
    "#print(val)\n",
    "df_rip=pd.DataFrame({'Date':dates})\n",
    "df_rip['real_close']=real_close_rip\n",
    "df_rip['predicted_close']=predicted_close_rip\n",
    "df_rip['Difference']=difference_rip\n",
    "df_rip['Percentage_change']=pr_change_rip\n",
    "print(df_rip)"
   ]
  },
  {
   "cell_type": "markdown",
   "metadata": {
    "collapsed": true
   },
   "source": [
    "In the above dataframe we can see the real close prices and the predicted prices are realy close to each other.The highest percnetage change is 5% approx. which is really good as per the amount of data and the size of model that we have.\n",
    "\n",
    "This way we can now predict the future close price of three major cryptocurencies with ease. But remember this is just simplest approach that we can go for. Predicting the prices is really dificult task as lot of factors in world determines the price of any curency. So we can not gurrentee that our approach is best or will give us best results. "
   ]
  }
 ],
 "metadata": {
  "kernelspec": {
   "display_name": "Python 3",
   "language": "python",
   "name": "python3"
  },
  "language_info": {
   "codemirror_mode": {
    "name": "ipython",
    "version": 3
   },
   "file_extension": ".py",
   "mimetype": "text/x-python",
   "name": "python",
   "nbconvert_exporter": "python",
   "pygments_lexer": "ipython3",
   "version": "3.6.3"
  }
 },
 "nbformat": 4,
 "nbformat_minor": 2
}
