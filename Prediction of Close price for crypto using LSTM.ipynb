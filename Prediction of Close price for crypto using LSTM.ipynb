{
 "cells": [
  {
   "cell_type": "markdown",
   "metadata": {},
   "source": [
    "# Prediction Of Close Prices for Cryptocurrency"
   ]
  },
  {
   "cell_type": "markdown",
   "metadata": {},
   "source": [
    "Cryptocurrency is future of currency and how we do trading. Cryptocurrencies are there from 2013,but at that time people were not interested in decentralized currencies.But due to recent rise of technology and makrket changes, now everyone want to buy cryptocurrency. \n",
    "\n",
    "So today we are going to try to predict the close prices of top three cryptocurrencies using deep learning. Predicting the exact prices is not a simple task. Lot of factors affect the prices next day,but to make things simple here we are just using the Close,Open,High,Low,Volume and Market Cap as features to predict the close price for next day. The data is fetched from https://coinmarketcap.com/ ."
   ]
  },
  {
   "cell_type": "markdown",
   "metadata": {},
   "source": [
    "We will start by importing some useful python packeges. We will use them in our data preparation and model creation and prediction as well."
   ]
  },
  {
   "cell_type": "code",
   "execution_count": 1,
   "metadata": {},
   "outputs": [
    {
     "name": "stderr",
     "output_type": "stream",
     "text": [
      "C:\\Anaconda3\\lib\\site-packages\\h5py\\__init__.py:34: FutureWarning: Conversion of the second argument of issubdtype from `float` to `np.floating` is deprecated. In future, it will be treated as `np.float64 == np.dtype(float).type`.\n",
      "  from ._conv import register_converters as _register_converters\n",
      "Using TensorFlow backend.\n"
     ]
    }
   ],
   "source": [
    "import pandas as pd\n",
    "import time\n",
    "import seaborn as sns\n",
    "import datetime\n",
    "import numpy as np\n",
    "from math import sqrt\n",
    "from matplotlib import pyplot\n",
    "from sklearn.preprocessing import MinMaxScaler\n",
    "from sklearn.preprocessing import LabelEncoder\n",
    "from sklearn.metrics import mean_squared_error\n",
    "from keras.models import Sequential\n",
    "from keras.layers import Dense\n",
    "from keras.layers import LSTM\n",
    "from keras.layers import Activation, Dense"
   ]
  },
  {
   "cell_type": "markdown",
   "metadata": {},
   "source": [
    "# Bitcoin"
   ]
  },
  {
   "cell_type": "markdown",
   "metadata": {},
   "source": [
    "Bitcoins is the oldest cryptocurrency is the market. We can say the oldest got much costlier than it was before. We will fetch the data of bitcoin from this url https://coinmarketcap.com/currencies/bitcoin/historical-data/?start=20130428&end. It is all time data of Bitcoin starting from 2013 to 2018 present day. There are some missing values in data which we will replace with zero for our model building purpose."
   ]
  },
  {
   "cell_type": "code",
   "execution_count": 2,
   "metadata": {},
   "outputs": [
    {
     "data": {
      "text/html": [
       "<div>\n",
       "<style>\n",
       "    .dataframe thead tr:only-child th {\n",
       "        text-align: right;\n",
       "    }\n",
       "\n",
       "    .dataframe thead th {\n",
       "        text-align: left;\n",
       "    }\n",
       "\n",
       "    .dataframe tbody tr th {\n",
       "        vertical-align: top;\n",
       "    }\n",
       "</style>\n",
       "<table border=\"1\" class=\"dataframe\">\n",
       "  <thead>\n",
       "    <tr style=\"text-align: right;\">\n",
       "      <th></th>\n",
       "      <th>Date</th>\n",
       "      <th>Close</th>\n",
       "      <th>Open</th>\n",
       "      <th>High</th>\n",
       "      <th>Low</th>\n",
       "      <th>Volume</th>\n",
       "      <th>Market Cap</th>\n",
       "    </tr>\n",
       "  </thead>\n",
       "  <tbody>\n",
       "    <tr>\n",
       "      <th>0</th>\n",
       "      <td>2018-01-30</td>\n",
       "      <td>10106.3</td>\n",
       "      <td>11306.8</td>\n",
       "      <td>11307.2</td>\n",
       "      <td>10036.2</td>\n",
       "      <td>8637860000</td>\n",
       "      <td>190339000000</td>\n",
       "    </tr>\n",
       "    <tr>\n",
       "      <th>1</th>\n",
       "      <td>2018-01-29</td>\n",
       "      <td>11296.4</td>\n",
       "      <td>11755.5</td>\n",
       "      <td>11875.6</td>\n",
       "      <td>11179.2</td>\n",
       "      <td>7107360000</td>\n",
       "      <td>197871000000</td>\n",
       "    </tr>\n",
       "    <tr>\n",
       "      <th>2</th>\n",
       "      <td>2018-01-28</td>\n",
       "      <td>11786.3</td>\n",
       "      <td>11475.3</td>\n",
       "      <td>12040.3</td>\n",
       "      <td>11475.3</td>\n",
       "      <td>8350360000</td>\n",
       "      <td>193133000000</td>\n",
       "    </tr>\n",
       "    <tr>\n",
       "      <th>3</th>\n",
       "      <td>2018-01-27</td>\n",
       "      <td>11440.7</td>\n",
       "      <td>11174.9</td>\n",
       "      <td>11614.9</td>\n",
       "      <td>10989.2</td>\n",
       "      <td>7583270000</td>\n",
       "      <td>188054000000</td>\n",
       "    </tr>\n",
       "    <tr>\n",
       "      <th>4</th>\n",
       "      <td>2018-01-26</td>\n",
       "      <td>11171.4</td>\n",
       "      <td>11256.0</td>\n",
       "      <td>11656.7</td>\n",
       "      <td>10470.3</td>\n",
       "      <td>9746200000</td>\n",
       "      <td>189398000000</td>\n",
       "    </tr>\n",
       "  </tbody>\n",
       "</table>\n",
       "</div>"
      ],
      "text/plain": [
       "        Date    Close     Open     High      Low      Volume    Market Cap\n",
       "0 2018-01-30  10106.3  11306.8  11307.2  10036.2  8637860000  190339000000\n",
       "1 2018-01-29  11296.4  11755.5  11875.6  11179.2  7107360000  197871000000\n",
       "2 2018-01-28  11786.3  11475.3  12040.3  11475.3  8350360000  193133000000\n",
       "3 2018-01-27  11440.7  11174.9  11614.9  10989.2  7583270000  188054000000\n",
       "4 2018-01-26  11171.4  11256.0  11656.7  10470.3  9746200000  189398000000"
      ]
     },
     "execution_count": 2,
     "metadata": {},
     "output_type": "execute_result"
    }
   ],
   "source": [
    "# get market info for bitcoin from the start of 2016 to the current day\n",
    "bitcoin_market_info = pd.read_html(\"https://coinmarketcap.com/currencies/bitcoin/historical-data/?start=20130428&end=\"+time.strftime(\"%Y%m%d\"))[0]\n",
    "# convert the date string to the correct date format\n",
    "bitcoin_market_info = bitcoin_market_info.assign(Date=pd.to_datetime(bitcoin_market_info['Date']))\n",
    "# when Volume is equal to '-' convert it to 0\n",
    "bitcoin_market_info.loc[bitcoin_market_info['Volume']==\"-\",'Volume']=0\n",
    "# convert to int\n",
    "bitcoin_market_info['Volume'] = bitcoin_market_info['Volume'].astype('int64')\n",
    "# look at the first few rows\n",
    "bitcoin_market_info=bitcoin_market_info[['Date','Close','Open','High','Low','Volume','Market Cap']]\n",
    "bitcoin_market_info.head()"
   ]
  },
  {
   "cell_type": "markdown",
   "metadata": {},
   "source": [
    "The above values are first five days data.AS you can see have latest data from 24 January 2018. So ultimately we are using up to date data for building our model. \n",
    "\n",
    "Now let's normalize the data. As you can see that the values in data are ranging from some 10,000 USD up to some 183,419,000,000, which is really big number to deal with.So we will noramlize data using scikit-learn minmax normalization module. It will normalize the data with mean zero and standard deviation one. Then we can use the data to further processign and model training. "
   ]
  },
  {
   "cell_type": "code",
   "execution_count": 3,
   "metadata": {
    "collapsed": true
   },
   "outputs": [],
   "source": [
    "from sklearn.preprocessing import MinMaxScaler\n",
    "from sklearn.preprocessing import LabelEncoder\n",
    "from sklearn.metrics import mean_squared_error\n",
    "\n",
    "\n",
    "bitcoin_market_info.drop(['Date'],inplace=True,axis=1)\n",
    "#print(bitcoin_market_info.head())\n",
    "scaler = MinMaxScaler(feature_range=(0, 1))\n",
    "scaled = scaler.fit_transform(bitcoin_market_info)"
   ]
  },
  {
   "cell_type": "markdown",
   "metadata": {},
   "source": [
    "In the time series data, data preparation is key part. We can not just use the data directly to train model. So we will twick the data slightly according to our requirment. \n",
    "\n",
    "What we are going to do is like this, we will shift each of the column to one step forward. So for example if the data is of 1 Januar,2018 then the output of that paerticularrow should be data of 2 January,2018. This way we will give present data as input and the future data as output.\n",
    "\n",
    "For doing the above step we are going to define a function which will take care of what we want. It will also drop rows with NaN values,so if we end up with NaN values then also we do not have to worry about it. The details regarding this function can be found here https://machinelearningmastery.com/convert-time-series-supervised-learning-problem-python/ . "
   ]
  },
  {
   "cell_type": "code",
   "execution_count": 4,
   "metadata": {
    "collapsed": true
   },
   "outputs": [],
   "source": [
    "columns=bitcoin_market_info.columns\n",
    "# convert series to supervised learning\n",
    "def series_to_supervised(data, n_in=1, n_out=1, dropnan=True):\n",
    "\t\"\"\"\n",
    "\tFrame a time series as a supervised learning dataset.\n",
    "\tArguments:\n",
    "\t\tdata: Sequence of observations as a list or NumPy array.\n",
    "\t\tn_in: Number of lag observations as input (X).\n",
    "\t\tn_out: Number of observations as output (y).\n",
    "\t\tdropnan: Boolean whether or not to drop rows with NaN values.\n",
    "\tReturns:\n",
    "\t\tPandas DataFrame of series framed for supervised learning.\n",
    "\t\"\"\"\n",
    "\tn_vars = 1 if type(data) is list else data.shape[1]\n",
    "\tdf = pd.DataFrame(data)\n",
    "\tcols, names = list(), list()\n",
    "\t# input sequence (t-n, ... t-1)\n",
    "\tfor i in range(n_in, 0, -1):\n",
    "\t\tcols.append(df.shift(-i))\n",
    "\t\tnames += [(j) for j in columns]\n",
    "\t# forecast sequence (t, t+1, ... t+n)\n",
    "\tfor i in range(0, n_out):\n",
    "\t\tcols.append(df.shift(i))\n",
    "\t\tif i == 0:\n",
    "\t\t\tnames += [(\"output \"+j) for j in columns]\n",
    "\t\telse:\n",
    "\t\t\tnames += [('var%d(t+%d)' % (j+1, i)) for j in range(n_vars)]\n",
    "\t# put it all together\n",
    "\tagg = pd.concat(cols, axis=1)\n",
    "\tagg.columns = names\n",
    "\t# drop rows with NaN values\n",
    "\tif dropnan:\n",
    "\t\tagg.dropna(inplace=True)\n",
    "\treturn agg"
   ]
  },
  {
   "cell_type": "markdown",
   "metadata": {},
   "source": [
    "Now we will use above defined function to reframe our original data."
   ]
  },
  {
   "cell_type": "code",
   "execution_count": 5,
   "metadata": {},
   "outputs": [
    {
     "name": "stdout",
     "output_type": "stream",
     "text": [
      "     Close     Open     High      Low        Volume    Market Cap  \\\n",
      "0  11296.4  11755.5  11875.6  11179.2  7.107360e+09  1.978710e+11   \n",
      "1  11786.3  11475.3  12040.3  11475.3  8.350360e+09  1.931330e+11   \n",
      "2  11440.7  11174.9  11614.9  10989.2  7.583270e+09  1.880540e+11   \n",
      "3  11171.4  11256.0  11656.7  10470.3  9.746200e+09  1.893980e+11   \n",
      "4  11259.4  11421.7  11785.7  11057.4  8.873170e+09  1.921630e+11   \n",
      "\n",
      "   output Close  \n",
      "0       10106.3  \n",
      "1       11296.4  \n",
      "2       11786.3  \n",
      "3       11440.7  \n",
      "4       11171.4  \n"
     ]
    }
   ],
   "source": [
    "reframed = series_to_supervised(scaled, 1, 1)\n",
    "ref=series_to_supervised(bitcoin_market_info.values,1,1)\n",
    "ref.drop(ref.columns[[7,8,9,10,11]], axis=1, inplace=True)\n",
    "print(ref.head())"
   ]
  },
  {
   "cell_type": "code",
   "execution_count": 6,
   "metadata": {},
   "outputs": [
    {
     "name": "stdout",
     "output_type": "stream",
     "text": [
      "(1738, 12)\n",
      "(1739, 6)\n"
     ]
    }
   ],
   "source": [
    "print(reframed.shape)\n",
    "print(bitcoin_market_info.shape)"
   ]
  },
  {
   "cell_type": "markdown",
   "metadata": {},
   "source": [
    "You can see the shape of reframed data is different than original data. As now we have stacked next day data to our present day data as output. So we end up with 12 columns instead of 6 as it was in original data. But we do not want to predict all the values for future days. We just want to predict the close price of the next day. So we are going to drop other unnecessary columns from our reframed data. \n",
    "\n",
    "Below is the first five rows of our noramlized as well as reframed data."
   ]
  },
  {
   "cell_type": "code",
   "execution_count": 7,
   "metadata": {},
   "outputs": [
    {
     "name": "stdout",
     "output_type": "stream",
     "text": [
      "      Close      Open      High       Low    Volume  Market Cap  output Close\n",
      "0  0.577898  0.602196  0.589626  0.587758  0.298116    0.605762      0.516644\n",
      "1  0.603113  0.587758  0.597855  0.603418  0.350254    0.591200      0.577898\n",
      "2  0.585325  0.572280  0.576601  0.577710  0.318078    0.575589      0.603113\n",
      "3  0.571465  0.576458  0.578689  0.550267  0.408802    0.579720      0.585325\n",
      "4  0.575994  0.584996  0.585135  0.581317  0.372183    0.588218      0.571465\n"
     ]
    }
   ],
   "source": [
    "reframed.drop(reframed.columns[[7,8,9,10,11]], axis=1, inplace=True)\n",
    "print(reframed.head())"
   ]
  },
  {
   "cell_type": "markdown",
   "metadata": {},
   "source": [
    "Now we will separate the data into two groups as training set and test set. We are having 1732 number of examples. So we will use 1500 number ofsamples for trainingpart and then rest of the data as testing part and model evaluation. We will also set the output y as the last column of our data. \n",
    "\n",
    "After splitting we are going to reshape the data into three dimensional shape so that we can use it for training a model. The new shape of the data will be (number of samples * 1 * number of features ). We will follow this shape up to the end of prediction and before feeding data to our model we will normalize and reshape it. "
   ]
  },
  {
   "cell_type": "code",
   "execution_count": 8,
   "metadata": {
    "scrolled": false
   },
   "outputs": [
    {
     "name": "stdout",
     "output_type": "stream",
     "text": [
      "(1491, 1, 6) (1491,) (238, 1, 6) (238,)\n"
     ]
    }
   ],
   "source": [
    "values=reframed.values\n",
    "train = values[9:1500, :]\n",
    "test = values[1500:, :]\n",
    "# split into input and outputs\n",
    "train_X, train_y = train[:, :-1], train[:, -1]\n",
    "test_X, test_y = test[:, :-1], test[:, -1]\n",
    "# reshape input to be 3D [samples, timesteps, features]\n",
    "train_X = train_X.reshape((train_X.shape[0], 1, train_X.shape[1]))\n",
    "test_X = test_X.reshape((test_X.shape[0], 1, test_X.shape[1]))\n",
    "print(train_X.shape, train_y.shape, test_X.shape, test_y.shape)"
   ]
  },
  {
   "cell_type": "markdown",
   "metadata": {},
   "source": [
    "Now we have noramlized the data, we have reframed it as supervised learning time-series data, and also we have splitted it in to two groups as well. So it is time to build and train the model. \n",
    "\n",
    "Below is the code for building a model. We are going to use Keras framework to build,train, and predictions. Keras is high level API wrapper framework, so we will be using Tensorflow as backend to it. "
   ]
  },
  {
   "cell_type": "markdown",
   "metadata": {},
   "source": [
    "We are going to use LSTM(Long Short Term Memory) network whichis kind of RNN(Recurrent Neural Network). RNN are widely and most popular neural networkl when it comesto time-series data. You can read more about RNN https://en.wikipedia.org/wiki/Recurrent_neural_network on this wikipedia page. If you like then you can read more about LSTM https://en.wikipedia.org/wiki/Long_short-term_memory here on its wikipedia page. "
   ]
  },
  {
   "cell_type": "markdown",
   "metadata": {},
   "source": [
    "In our LSTM there will be  using 80 number of neurons. And we will plot the loss of our training and testing set with respect to numbeer of epochs. We will use ADAM Optimizer to train the network and the Mean Absolute Error loss as loss function. We will train the network for 50 epochs and then will validate it on test set. "
   ]
  },
  {
   "cell_type": "code",
   "execution_count": 9,
   "metadata": {
    "scrolled": true
   },
   "outputs": [
    {
     "name": "stdout",
     "output_type": "stream",
     "text": [
      "Train on 1491 samples, validate on 238 samples\n",
      "Epoch 1/50\n",
      " - 2s - loss: 0.0673 - val_loss: 0.0082\n",
      "Epoch 2/50\n",
      " - 0s - loss: 0.0546 - val_loss: 0.0064\n",
      "Epoch 3/50\n",
      " - 0s - loss: 0.0415 - val_loss: 0.0076\n",
      "Epoch 4/50\n",
      " - 0s - loss: 0.0282 - val_loss: 0.0105\n",
      "Epoch 5/50\n",
      " - 0s - loss: 0.0110 - val_loss: 0.0044\n",
      "Epoch 6/50\n",
      " - 0s - loss: 0.0077 - val_loss: 0.0054\n",
      "Epoch 7/50\n",
      " - 1s - loss: 0.0067 - val_loss: 0.0066\n",
      "Epoch 8/50\n",
      " - 1s - loss: 0.0063 - val_loss: 0.0040\n",
      "Epoch 9/50\n",
      " - 1s - loss: 0.0056 - val_loss: 0.0033\n",
      "Epoch 10/50\n",
      " - 1s - loss: 0.0052 - val_loss: 0.0044\n",
      "Epoch 11/50\n",
      " - 1s - loss: 0.0051 - val_loss: 0.0039\n",
      "Epoch 12/50\n",
      " - 1s - loss: 0.0049 - val_loss: 0.0036\n",
      "Epoch 13/50\n",
      " - 1s - loss: 0.0044 - val_loss: 0.0031\n",
      "Epoch 14/50\n",
      " - 1s - loss: 0.0043 - val_loss: 0.0024\n",
      "Epoch 15/50\n",
      " - 1s - loss: 0.0041 - val_loss: 0.0024\n",
      "Epoch 16/50\n",
      " - 1s - loss: 0.0040 - val_loss: 0.0021\n",
      "Epoch 17/50\n",
      " - 1s - loss: 0.0039 - val_loss: 0.0019\n",
      "Epoch 18/50\n",
      " - 1s - loss: 0.0038 - val_loss: 0.0020\n",
      "Epoch 19/50\n",
      " - 1s - loss: 0.0039 - val_loss: 0.0018\n",
      "Epoch 20/50\n",
      " - 1s - loss: 0.0037 - val_loss: 0.0023\n",
      "Epoch 21/50\n",
      " - 1s - loss: 0.0038 - val_loss: 0.0023\n",
      "Epoch 22/50\n",
      " - 1s - loss: 0.0042 - val_loss: 0.0026\n",
      "Epoch 23/50\n",
      " - 1s - loss: 0.0038 - val_loss: 0.0026\n",
      "Epoch 24/50\n",
      " - 1s - loss: 0.0048 - val_loss: 0.0019\n",
      "Epoch 25/50\n",
      " - 1s - loss: 0.0042 - val_loss: 0.0035\n",
      "Epoch 26/50\n",
      " - 1s - loss: 0.0059 - val_loss: 0.0017\n",
      "Epoch 27/50\n",
      " - 1s - loss: 0.0056 - val_loss: 0.0046\n",
      "Epoch 28/50\n",
      " - 1s - loss: 0.0080 - val_loss: 0.0017\n",
      "Epoch 29/50\n",
      " - 1s - loss: 0.0065 - val_loss: 0.0050\n",
      "Epoch 30/50\n",
      " - 1s - loss: 0.0078 - val_loss: 0.0014\n",
      "Epoch 31/50\n",
      " - 1s - loss: 0.0066 - val_loss: 0.0044\n",
      "Epoch 32/50\n",
      " - 1s - loss: 0.0097 - val_loss: 0.0017\n",
      "Epoch 33/50\n",
      " - 1s - loss: 0.0071 - val_loss: 0.0058\n",
      "Epoch 34/50\n",
      " - 1s - loss: 0.0085 - val_loss: 0.0021\n",
      "Epoch 35/50\n",
      " - 1s - loss: 0.0063 - val_loss: 0.0047\n",
      "Epoch 36/50\n",
      " - 1s - loss: 0.0063 - val_loss: 0.0011\n",
      "Epoch 37/50\n",
      " - 1s - loss: 0.0050 - val_loss: 0.0047\n",
      "Epoch 38/50\n",
      " - 1s - loss: 0.0076 - val_loss: 0.0016\n",
      "Epoch 39/50\n",
      " - 1s - loss: 0.0053 - val_loss: 0.0031\n",
      "Epoch 40/50\n",
      " - 1s - loss: 0.0056 - val_loss: 0.0016\n",
      "Epoch 41/50\n",
      " - 1s - loss: 0.0045 - val_loss: 0.0037\n",
      "Epoch 42/50\n",
      " - 1s - loss: 0.0056 - val_loss: 0.0020\n",
      "Epoch 43/50\n",
      " - 1s - loss: 0.0042 - val_loss: 0.0037\n",
      "Epoch 44/50\n",
      " - 1s - loss: 0.0056 - val_loss: 0.0019\n",
      "Epoch 45/50\n",
      " - 1s - loss: 0.0048 - val_loss: 0.0046\n",
      "Epoch 46/50\n",
      " - 1s - loss: 0.0074 - val_loss: 0.0015\n",
      "Epoch 47/50\n",
      " - 1s - loss: 0.0053 - val_loss: 0.0032\n",
      "Epoch 48/50\n",
      " - 1s - loss: 0.0055 - val_loss: 0.0017\n",
      "Epoch 49/50\n",
      " - 1s - loss: 0.0044 - val_loss: 0.0039\n",
      "Epoch 50/50\n",
      " - 1s - loss: 0.0057 - val_loss: 0.0023\n"
     ]
    },
    {
     "data": {
      "image/png": "[encoded data removed]",
      "text/plain": [
       "<matplotlib.figure.Figure at 0x1fa375fe208>"
      ]
     },
     "metadata": {},
     "output_type": "display_data"
    }
   ],
   "source": [
    "# design network\n",
    "model = Sequential()\n",
    "model.add(LSTM(80, input_shape=(train_X.shape[1], train_X.shape[2])))\n",
    "model.add(Dense(1))\n",
    "model.compile(loss='mean_absolute_error', optimizer='adam')\n",
    "history = model.fit(train_X, train_y, epochs=50, batch_size=32, validation_data=(test_X, test_y), verbose=2, shuffle=False)\n",
    "# plot history\n",
    "pyplot.plot(history.history['loss'], label='train_loss')\n",
    "pyplot.plot(history.history['val_loss'], label='test_loss')\n",
    "pyplot.legend()\n",
    "pyplot.show()"
   ]
  },
  {
   "cell_type": "markdown",
   "metadata": {},
   "source": [
    "Now we will see how our model is performing on test set data. We will use RMSE metric to see how it generalize on test set. "
   ]
  },
  {
   "cell_type": "code",
   "execution_count": 10,
   "metadata": {},
   "outputs": [
    {
     "name": "stdout",
     "output_type": "stream",
     "text": [
      "Test RMSE: 55.298\n"
     ]
    }
   ],
   "source": [
    "# make a prediction\n",
    "yhat = model.predict(test_X)\n",
    "test_X = test_X.reshape((test_X.shape[0], test_X.shape[2]))\n",
    "# invert scaling for forecast\n",
    "inv_yhat = np.concatenate((yhat, test_X[:, 1:]), axis=1)\n",
    "inv_yhat = scaler.inverse_transform(inv_yhat)\n",
    "inv_yhat = inv_yhat[:,0]\n",
    "# invert scaling for actual\n",
    "test_y = test_y.reshape((len(test_y), 1))\n",
    "inv_y = np.concatenate((test_y, test_X[:, 1:]), axis=1)\n",
    "inv_y = scaler.inverse_transform(inv_y)\n",
    "inv_y = inv_y[:,0]\n",
    "# calculate RMSE\n",
    "rmse =sqrt(mean_squared_error(inv_y, inv_yhat))\n",
    "print('Test RMSE: %.3f' % rmse)"
   ]
  },
  {
   "cell_type": "markdown",
   "metadata": {},
   "source": [
    "The error is around 56 on test set.\n",
    "\n",
    "Now let's predict some close price on data to see how far we are in predicting exact prices. We will be using data from 22 January to 16 January 2018 as input data. So the predicted prices should be of 23 January to 17 January 2018. Here we will normalize the data before feeding into model for prediction but we are not going to reframe it because it is 7 days data and we can write close for 7 days by hand easily."
   ]
  },
  {
   "cell_type": "code",
   "execution_count": 11,
   "metadata": {
    "collapsed": true
   },
   "outputs": [],
   "source": [
    "data=np.array([[11440.7 ,11174.9 ,11614.9 ,10989.2 ,7583270000 ,188054000000 ],\n",
    "          [11171.4 ,11256.0 ,11656.7 ,10470.3 ,9746200000 ,189398000000],\n",
    "           [11259.4 ,11421.7 ,11785.7 ,11057.4 ,8873170000 ,192163000000],\n",
    "           [11359.4 ,10903.4 ,11501.4 ,10639.8 ,9940990000 ,183419000000],\n",
    "           [10868.40,10944.50 ,11377.60,10129.70, 9660610000 ,184087000000],\n",
    "           [10931.40,11633.10,11966.40,10240.20,10537400000 ,195645000000],\n",
    "           [11600.10,12889.20,12895.90,11288.20,9935180000,216740000000]])\n",
    "a=scaler.fit_transform(data)\n",
    "pre=model.predict(a.reshape(data.shape[0],1,6))\n",
    "phat=np.concatenate((pre,a[:,1:]),axis=1)\n",
    "#print(phat)\n",
    "predicted=scaler.inverse_transform(phat)\n",
    "#print(predicted)"
   ]
  },
  {
   "cell_type": "code",
   "execution_count": 12,
   "metadata": {},
   "outputs": [
    {
     "name": "stdout",
     "output_type": "stream",
     "text": [
      "        Date  real_close  predicted_close  Difference  Percentage_change\n",
      "0 2018-01-28     11786.3     11201.528686  584.771314           5.220460\n",
      "1 2018-01-27     11440.7     11095.340155  345.359845           3.112657\n",
      "2 2018-01-26     11171.4     11227.139535   55.739535           0.496471\n",
      "3 2018-01-25     11259.4     11109.219946  150.180054           1.351851\n",
      "4 2018-01-24     11359.4     10903.051665  456.348335           4.185510\n",
      "5 2018-01-23     10868.4     11087.738393  219.338393           1.978207\n",
      "6 2018-01-22     10931.4     11627.627127  696.227127           5.987697\n"
     ]
    }
   ],
   "source": [
    "real_close=[11786.3,11440.7,11171.4,11259.4,11359.4,10868.4,10931.4]\n",
    "predicted_close=[]\n",
    "date=[]\n",
    "difference=[]\n",
    "pr_change=[]\n",
    "date=pd.date_range('22-01-2018','28-01-2018',freq='D').sort_values(ascending=False)\n",
    "#print(difference)\n",
    "for i in range(data.shape[0]):\n",
    "    predicted_close.append(predicted[i,0])\n",
    "    difference.append(abs(predicted[i,0]-real_close[i]))\n",
    "    pr_change.append((abs(predicted[i,0]-real_close[i])/predicted[i,0])*100)\n",
    "df=pd.DataFrame({'Date':date})\n",
    "df['real_close']=real_close\n",
    "df['predicted_close']=predicted_close\n",
    "df['Difference']=difference\n",
    "df['Percentage_change']=pr_change\n",
    "print(df)"
   ]
  },
  {
   "cell_type": "markdown",
   "metadata": {},
   "source": [
    "In the above dataframe we can see the dates,real close price on that date,predicted price on that date,difference between real and predicted price and the percentage change between real and predicted prices.\n",
    "\n",
    "The highest difference between the real close and predicted close is around 697 USD approx which is good for simple model that we have created. In terms of percentage it is around 6% which is also a good."
   ]
  },
  {
   "cell_type": "markdown",
   "metadata": {},
   "source": [
    "Now let's try the same approach on the second costliest currency i.e., Ethereum . "
   ]
  },
  {
   "cell_type": "markdown",
   "metadata": {
    "collapsed": true
   },
   "source": [
    "# Ethereum "
   ]
  },
  {
   "cell_type": "markdown",
   "metadata": {},
   "source": [
    "All steps are same as previous one. Just instead of Bitcoin now we are gong to use Ethereum data for train and testing model and then we will predict prices of 7 days for Ethereum as we previously have done for Bitcoin."
   ]
  },
  {
   "cell_type": "markdown",
   "metadata": {},
   "source": [
    "We will directly jump on prediction part and let's see how we are doing on Ethereum."
   ]
  },
  {
   "cell_type": "code",
   "execution_count": 13,
   "metadata": {},
   "outputs": [
    {
     "data": {
      "text/html": [
       "<div>\n",
       "<style>\n",
       "    .dataframe thead tr:only-child th {\n",
       "        text-align: right;\n",
       "    }\n",
       "\n",
       "    .dataframe thead th {\n",
       "        text-align: left;\n",
       "    }\n",
       "\n",
       "    .dataframe tbody tr th {\n",
       "        vertical-align: top;\n",
       "    }\n",
       "</style>\n",
       "<table border=\"1\" class=\"dataframe\">\n",
       "  <thead>\n",
       "    <tr style=\"text-align: right;\">\n",
       "      <th></th>\n",
       "      <th>Date</th>\n",
       "      <th>Close</th>\n",
       "      <th>Open</th>\n",
       "      <th>High</th>\n",
       "      <th>Low</th>\n",
       "      <th>Volume</th>\n",
       "      <th>Market Cap</th>\n",
       "    </tr>\n",
       "  </thead>\n",
       "  <tbody>\n",
       "    <tr>\n",
       "      <th>0</th>\n",
       "      <td>2018-01-30</td>\n",
       "      <td>1071.13</td>\n",
       "      <td>1184.13</td>\n",
       "      <td>1184.63</td>\n",
       "      <td>1058.97</td>\n",
       "      <td>4107860000</td>\n",
       "      <td>115207000000</td>\n",
       "    </tr>\n",
       "    <tr>\n",
       "      <th>1</th>\n",
       "      <td>2018-01-29</td>\n",
       "      <td>1182.36</td>\n",
       "      <td>1246.70</td>\n",
       "      <td>1256.70</td>\n",
       "      <td>1169.08</td>\n",
       "      <td>3715080000</td>\n",
       "      <td>121269000000</td>\n",
       "    </tr>\n",
       "    <tr>\n",
       "      <th>2</th>\n",
       "      <td>2018-01-28</td>\n",
       "      <td>1246.01</td>\n",
       "      <td>1111.78</td>\n",
       "      <td>1257.77</td>\n",
       "      <td>1111.78</td>\n",
       "      <td>5372330000</td>\n",
       "      <td>108122000000</td>\n",
       "    </tr>\n",
       "    <tr>\n",
       "      <th>3</th>\n",
       "      <td>2018-01-27</td>\n",
       "      <td>1107.07</td>\n",
       "      <td>1055.75</td>\n",
       "      <td>1121.98</td>\n",
       "      <td>1042.12</td>\n",
       "      <td>3002870000</td>\n",
       "      <td>102651000000</td>\n",
       "    </tr>\n",
       "    <tr>\n",
       "      <th>4</th>\n",
       "      <td>2018-01-26</td>\n",
       "      <td>1055.17</td>\n",
       "      <td>1052.70</td>\n",
       "      <td>1080.60</td>\n",
       "      <td>996.78</td>\n",
       "      <td>3617690000</td>\n",
       "      <td>102334000000</td>\n",
       "    </tr>\n",
       "  </tbody>\n",
       "</table>\n",
       "</div>"
      ],
      "text/plain": [
       "        Date    Close     Open     High      Low      Volume    Market Cap\n",
       "0 2018-01-30  1071.13  1184.13  1184.63  1058.97  4107860000  115207000000\n",
       "1 2018-01-29  1182.36  1246.70  1256.70  1169.08  3715080000  121269000000\n",
       "2 2018-01-28  1246.01  1111.78  1257.77  1111.78  5372330000  108122000000\n",
       "3 2018-01-27  1107.07  1055.75  1121.98  1042.12  3002870000  102651000000\n",
       "4 2018-01-26  1055.17  1052.70  1080.60   996.78  3617690000  102334000000"
      ]
     },
     "execution_count": 13,
     "metadata": {},
     "output_type": "execute_result"
    }
   ],
   "source": [
    "# get market info for ethereum from the start of 2016 to the current day\n",
    "eth_market_info = pd.read_html(\"https://coinmarketcap.com/currencies/ethereum/historical-data/?start=20130428&end=\"+time.strftime(\"%Y%m%d\"))[0]\n",
    "# convert the date string to the correct date format\n",
    "eth_market_info = eth_market_info.assign(Date=pd.to_datetime(eth_market_info['Date']))\n",
    "eth_market_info.loc[eth_market_info['Market Cap']==\"-\",'Market Cap']=0\n",
    "# convert to int\n",
    "eth_market_info['Volume'] = eth_market_info['Volume'].astype('int64')\n",
    "# look at the first few rows\n",
    "eth_market_info=eth_market_info[['Date','Close','Open','High','Low','Volume','Market Cap']]\n",
    "eth_market_info.head()"
   ]
  },
  {
   "cell_type": "code",
   "execution_count": 14,
   "metadata": {
    "collapsed": true
   },
   "outputs": [],
   "source": [
    "eth_market_info.drop(['Date'],inplace=True,axis=1)\n",
    "scaler_eth = MinMaxScaler(feature_range=(0, 1))\n",
    "scaled_eth = scaler_eth.fit_transform(eth_market_info)\n",
    "#print(scaled_eth)"
   ]
  },
  {
   "cell_type": "code",
   "execution_count": 15,
   "metadata": {},
   "outputs": [
    {
     "name": "stdout",
     "output_type": "stream",
     "text": [
      "(907, 12)\n",
      "(908, 6)\n"
     ]
    }
   ],
   "source": [
    "reframed_eth = series_to_supervised(scaled_eth, 1, 1)\n",
    "print(reframed_eth.shape)\n",
    "print(eth_market_info.shape)"
   ]
  },
  {
   "cell_type": "code",
   "execution_count": 16,
   "metadata": {},
   "outputs": [
    {
     "name": "stdout",
     "output_type": "stream",
     "text": [
      "(790, 1, 6) (790,) (107, 1, 6) (107,)\n"
     ]
    }
   ],
   "source": [
    "reframed_eth.drop(reframed_eth.columns[[7,8,9,10,11]], axis=1, inplace=True)\n",
    "values_eth=reframed_eth.values\n",
    "train_eth = values_eth[10:800, :]\n",
    "test_eth = values_eth[800:, :]\n",
    "# split into input and outputs\n",
    "train_X_eth, train_y_eth = train_eth[:, :-1], train_eth[:, -1]\n",
    "test_X_eth, test_y_eth = test_eth[:, :-1], test_eth[:, -1]\n",
    "# reshape input to be 3D [samples, timesteps, features]\n",
    "train_X_eth = train_X_eth.reshape((train_X_eth.shape[0], 1, train_X_eth.shape[1]))\n",
    "test_X_eth = test_X_eth.reshape((test_X_eth.shape[0], 1, test_X_eth.shape[1]))\n",
    "print(train_X_eth.shape, train_y_eth.shape, test_X_eth.shape, test_y_eth.shape)"
   ]
  },
  {
   "cell_type": "code",
   "execution_count": 17,
   "metadata": {
    "scrolled": true
   },
   "outputs": [
    {
     "name": "stdout",
     "output_type": "stream",
     "text": [
      "Train on 790 samples, validate on 107 samples\n",
      "Epoch 1/50\n",
      " - 1s - loss: 0.0984 - val_loss: 0.0153\n",
      "Epoch 2/50\n",
      " - 0s - loss: 0.0697 - val_loss: 0.0036\n",
      "Epoch 3/50\n",
      " - 0s - loss: 0.0559 - val_loss: 0.0023\n",
      "Epoch 4/50\n",
      " - 0s - loss: 0.0345 - val_loss: 0.0040\n",
      "Epoch 5/50\n",
      " - 0s - loss: 0.0103 - val_loss: 0.0021\n",
      "Epoch 6/50\n",
      " - 0s - loss: 0.0136 - val_loss: 8.3099e-04\n",
      "Epoch 7/50\n",
      " - 0s - loss: 0.0099 - val_loss: 7.3415e-04\n",
      "Epoch 8/50\n",
      " - 0s - loss: 0.0122 - val_loss: 0.0014\n",
      "Epoch 9/50\n",
      " - 0s - loss: 0.0089 - val_loss: 0.0018\n",
      "Epoch 10/50\n",
      " - 0s - loss: 0.0097 - val_loss: 5.9962e-04\n",
      "Epoch 11/50\n",
      " - 0s - loss: 0.0102 - val_loss: 0.0013\n",
      "Epoch 12/50\n",
      " - 0s - loss: 0.0101 - val_loss: 0.0023\n",
      "Epoch 13/50\n",
      " - 0s - loss: 0.0085 - val_loss: 0.0011\n",
      "Epoch 14/50\n",
      " - 0s - loss: 0.0109 - val_loss: 0.0015\n",
      "Epoch 15/50\n",
      " - 0s - loss: 0.0084 - val_loss: 0.0015\n",
      "Epoch 16/50\n",
      " - 0s - loss: 0.0121 - val_loss: 0.0012\n",
      "Epoch 17/50\n",
      " - 0s - loss: 0.0093 - val_loss: 7.7341e-04\n",
      "Epoch 18/50\n",
      " - 0s - loss: 0.0101 - val_loss: 0.0013\n",
      "Epoch 19/50\n",
      " - 0s - loss: 0.0079 - val_loss: 0.0012\n",
      "Epoch 20/50\n",
      " - 0s - loss: 0.0095 - val_loss: 2.8222e-04\n",
      "Epoch 21/50\n",
      " - 0s - loss: 0.0126 - val_loss: 0.0022\n",
      "Epoch 22/50\n",
      " - 0s - loss: 0.0063 - val_loss: 2.0125e-04\n",
      "Epoch 23/50\n",
      " - 0s - loss: 0.0088 - val_loss: 0.0026\n",
      "Epoch 24/50\n",
      " - 0s - loss: 0.0066 - val_loss: 2.6687e-04\n",
      "Epoch 25/50\n",
      " - 0s - loss: 0.0091 - val_loss: 0.0018\n",
      "Epoch 26/50\n",
      " - 0s - loss: 0.0069 - val_loss: 3.4802e-04\n",
      "Epoch 27/50\n",
      " - 0s - loss: 0.0070 - val_loss: 4.4314e-04\n",
      "Epoch 28/50\n",
      " - 0s - loss: 0.0071 - val_loss: 3.9295e-04\n",
      "Epoch 29/50\n",
      " - 0s - loss: 0.0087 - val_loss: 7.0997e-04\n",
      "Epoch 30/50\n",
      " - 0s - loss: 0.0105 - val_loss: 9.4821e-04\n",
      "Epoch 31/50\n",
      " - 0s - loss: 0.0069 - val_loss: 5.4156e-04\n",
      "Epoch 32/50\n",
      " - 0s - loss: 0.0116 - val_loss: 0.0042\n",
      "Epoch 33/50\n",
      " - 0s - loss: 0.0075 - val_loss: 3.4750e-04\n",
      "Epoch 34/50\n",
      " - 0s - loss: 0.0082 - val_loss: 0.0013\n",
      "Epoch 35/50\n",
      " - 0s - loss: 0.0059 - val_loss: 7.6500e-05\n",
      "Epoch 36/50\n",
      " - 0s - loss: 0.0076 - val_loss: 0.0013\n",
      "Epoch 37/50\n",
      " - 0s - loss: 0.0072 - val_loss: 4.3666e-04\n",
      "Epoch 38/50\n",
      " - 0s - loss: 0.0069 - val_loss: 8.8734e-04\n",
      "Epoch 39/50\n",
      " - 0s - loss: 0.0071 - val_loss: 6.1739e-04\n",
      "Epoch 40/50\n",
      " - 0s - loss: 0.0062 - val_loss: 9.5286e-04\n",
      "Epoch 41/50\n",
      " - 0s - loss: 0.0062 - val_loss: 2.4100e-04\n",
      "Epoch 42/50\n",
      " - 0s - loss: 0.0063 - val_loss: 4.8656e-04\n",
      "Epoch 43/50\n",
      " - 0s - loss: 0.0084 - val_loss: 0.0017\n",
      "Epoch 44/50\n",
      " - 0s - loss: 0.0068 - val_loss: 1.6527e-04\n",
      "Epoch 45/50\n",
      " - 0s - loss: 0.0094 - val_loss: 8.7285e-04\n",
      "Epoch 46/50\n",
      " - 0s - loss: 0.0081 - val_loss: 0.0012\n",
      "Epoch 47/50\n",
      " - 0s - loss: 0.0129 - val_loss: 0.0038\n",
      "Epoch 48/50\n",
      " - 0s - loss: 0.0113 - val_loss: 0.0013\n",
      "Epoch 49/50\n",
      " - 0s - loss: 0.0073 - val_loss: 9.4575e-04\n",
      "Epoch 50/50\n",
      " - 0s - loss: 0.0102 - val_loss: 1.4564e-04\n"
     ]
    },
    {
     "data": {
      "image/png": "[encoded data removed]",
      "text/plain": [
       "<matplotlib.figure.Figure at 0x1fa3ad87a20>"
      ]
     },
     "metadata": {},
     "output_type": "display_data"
    }
   ],
   "source": [
    "# design network\n",
    "model = Sequential()\n",
    "model.add(LSTM(70, input_shape=(train_X_eth.shape[1], train_X_eth.shape[2])))\n",
    "model.add(Dense(1))\n",
    "model.compile(loss='mae', optimizer='adam')\n",
    "history = model.fit(train_X_eth, train_y_eth, epochs=50, batch_size=32, validation_data=(test_X_eth, test_y_eth), verbose=2, shuffle=False)\n",
    "# plot history\n",
    "pyplot.plot(history.history['loss'], label='train')\n",
    "pyplot.plot(history.history['val_loss'], label='test')\n",
    "pyplot.legend()\n",
    "pyplot.show()"
   ]
  },
  {
   "cell_type": "code",
   "execution_count": 18,
   "metadata": {},
   "outputs": [
    {
     "name": "stdout",
     "output_type": "stream",
     "text": [
      "Test RMSE: 0.303\n"
     ]
    }
   ],
   "source": [
    "# make a prediction\n",
    "yhat_eth = model.predict(test_X_eth)\n",
    "test_X_eth = test_X_eth.reshape((test_X_eth.shape[0], test_X_eth.shape[2]))\n",
    "# invert scaling for forecast\n",
    "inv_yhat_eth = np.concatenate((yhat_eth, test_X_eth[:, 1:]), axis=1)\n",
    "inv_yhat_eth = scaler_eth.inverse_transform(inv_yhat_eth)\n",
    "inv_yhat_eth = inv_yhat_eth[:,0]\n",
    "# invert scaling for actual\n",
    "test_y_eth = test_y_eth.reshape((len(test_y_eth), 1))\n",
    "inv_y_eth = np.concatenate((test_y_eth, test_X_eth[:, 1:]), axis=1)\n",
    "inv_y_eth = scaler_eth.inverse_transform(inv_y_eth)\n",
    "inv_y_eth = inv_y_eth[:,0]\n",
    "# calculate RMSE\n",
    "rmse = sqrt(mean_squared_error(inv_y_eth, inv_yhat_eth))\n",
    "print('Test RMSE: %.3f' % rmse)"
   ]
  },
  {
   "cell_type": "markdown",
   "metadata": {},
   "source": [
    "We will use 7 days data from 16 January up to 22 January 2018 and we will get the predicted prices for 17 January up to 23 January 2018. Here also we will just normalize the data and the we will write down the future pricesby hand. No reframe of data will be done. "
   ]
  },
  {
   "cell_type": "code",
   "execution_count": 19,
   "metadata": {
    "collapsed": true
   },
   "outputs": [],
   "source": [
    "data_eth=np.array([[1107.07 ,1055.75 ,1121.98 ,1042.12 ,3002870000 ,102651000000],\n",
    "          [1055.17 ,1052.70 ,1080.60 ,996.78 ,3617690000 ,102334000000],\n",
    "           [1056.03,1063.22 ,1104.66 ,1034.74 ,4050190000 ,103335000000],\n",
    "           [1058.78 ,987.48 ,1062.44 ,965.81 ,3944040000 ,95952700000],\n",
    "           [986.23,1004.17,1023.23,920.54,3556700000 ,97554300000],\n",
    "           [1003.26,1055.35,1089.10,930.74 ,3810100000,102504000000],\n",
    "           [1049.58,1155.68,1155.68,1021.50 ,3378090000,112226000000]])\n",
    "a_eth=scaler_eth.fit_transform(data_eth)\n",
    "pre=model.predict(a_eth.reshape(data_eth.shape[0],1,6))\n",
    "phat_eth=np.concatenate((pre,a_eth[:,1:]),axis=1)\n",
    "#print(phat)\n",
    "predicted_eth=scaler_eth.inverse_transform(phat_eth)"
   ]
  },
  {
   "cell_type": "code",
   "execution_count": 20,
   "metadata": {},
   "outputs": [
    {
     "name": "stdout",
     "output_type": "stream",
     "text": [
      "        Date  real_close  predicted_close  Difference  Percentage_change\n",
      "0 2018-01-28     1246.01      1082.051811  163.958189          15.152527\n",
      "1 2018-01-27     1107.07      1055.335062   51.734938           4.902229\n",
      "2 2018-01-26     1055.17      1074.305798   19.135798           1.781224\n",
      "3 2018-01-25     1056.03      1032.489019   23.540981           2.280022\n",
      "4 2018-01-24     1058.78       995.524280   63.255720           6.354011\n",
      "5 2018-01-23      986.23      1029.019781   42.789781           4.158305\n",
      "6 2018-01-22     1003.26      1092.995242   89.735242           8.210030\n"
     ]
    }
   ],
   "source": [
    "real_close_eth=np.array([1246.01,1107.07,1055.17,1056.03,1058.78,986.23,1003.26])\n",
    "predicted_close_eth=[]\n",
    "difference_eth=[]\n",
    "pr_change_eth=[]\n",
    "date_eth=pd.date_range('22-01-2018','28-01-2018',freq='D').sort_values(ascending=False)\n",
    "#print(date_eth)\n",
    "for i in range(data_eth.shape[0]):\n",
    "    predicted_close_eth.append(predicted_eth[i,0])\n",
    "    difference_eth.append(abs(predicted_eth[i,0]-real_close_eth[i]))\n",
    "    pr_change_eth.append((abs(predicted_eth[i,0]-real_close_eth[i])/predicted_eth[i,0])*100)\n",
    "df_eth=pd.DataFrame({'Date':date_eth})\n",
    "df_eth['real_close']=real_close_eth\n",
    "df_eth['predicted_close']=predicted_close_eth\n",
    "df_eth['Difference']=difference_eth\n",
    "df_eth['Percentage_change']=pr_change_eth\n",
    "print(df_eth)"
   ]
  },
  {
   "cell_type": "markdown",
   "metadata": {},
   "source": [
    "In the above dataframe we can see that the real and predicted prices are really close to each other. The highest difference is 90 USD approx with 9% approx change or difference. Though for model with this much complexity it is realy good. "
   ]
  },
  {
   "cell_type": "markdown",
   "metadata": {},
   "source": [
    "Now let's do one more example on Ripple which is the third highest rated cryptocurrency in the world right now. "
   ]
  },
  {
   "cell_type": "markdown",
   "metadata": {},
   "source": [
    "# Ripple"
   ]
  },
  {
   "cell_type": "markdown",
   "metadata": {},
   "source": [
    "Here we will fetch the data of Ripple and then we will trian LSTM to predict future close prices. We will see how our model is doing in terms of perfroramce on 7 days of data."
   ]
  },
  {
   "cell_type": "markdown",
   "metadata": {},
   "source": [
    "We are skipping the explaination of code blocks here as it is mostly similar to Bitcoin one. So let's jump on prediction part and see how our model predicts prices for future day using present data."
   ]
  },
  {
   "cell_type": "code",
   "execution_count": 21,
   "metadata": {},
   "outputs": [
    {
     "data": {
      "text/html": [
       "<div>\n",
       "<style>\n",
       "    .dataframe thead tr:only-child th {\n",
       "        text-align: right;\n",
       "    }\n",
       "\n",
       "    .dataframe thead th {\n",
       "        text-align: left;\n",
       "    }\n",
       "\n",
       "    .dataframe tbody tr th {\n",
       "        vertical-align: top;\n",
       "    }\n",
       "</style>\n",
       "<table border=\"1\" class=\"dataframe\">\n",
       "  <thead>\n",
       "    <tr style=\"text-align: right;\">\n",
       "      <th></th>\n",
       "      <th>Date</th>\n",
       "      <th>Close</th>\n",
       "      <th>Open</th>\n",
       "      <th>High</th>\n",
       "      <th>Low</th>\n",
       "      <th>Volume</th>\n",
       "      <th>Market Cap</th>\n",
       "    </tr>\n",
       "  </thead>\n",
       "  <tbody>\n",
       "    <tr>\n",
       "      <th>0</th>\n",
       "      <td>2018-01-30</td>\n",
       "      <td>1.14</td>\n",
       "      <td>1.33</td>\n",
       "      <td>1.33</td>\n",
       "      <td>1.13</td>\n",
       "      <td>1134640000</td>\n",
       "      <td>51452400000</td>\n",
       "    </tr>\n",
       "    <tr>\n",
       "      <th>1</th>\n",
       "      <td>2018-01-29</td>\n",
       "      <td>1.32</td>\n",
       "      <td>1.40</td>\n",
       "      <td>1.41</td>\n",
       "      <td>1.30</td>\n",
       "      <td>1073680000</td>\n",
       "      <td>54204300000</td>\n",
       "    </tr>\n",
       "    <tr>\n",
       "      <th>2</th>\n",
       "      <td>2018-01-28</td>\n",
       "      <td>1.40</td>\n",
       "      <td>1.22</td>\n",
       "      <td>1.44</td>\n",
       "      <td>1.22</td>\n",
       "      <td>1327360000</td>\n",
       "      <td>47412500000</td>\n",
       "    </tr>\n",
       "    <tr>\n",
       "      <th>3</th>\n",
       "      <td>2018-01-27</td>\n",
       "      <td>1.22</td>\n",
       "      <td>1.22</td>\n",
       "      <td>1.24</td>\n",
       "      <td>1.19</td>\n",
       "      <td>689101000</td>\n",
       "      <td>47180200000</td>\n",
       "    </tr>\n",
       "    <tr>\n",
       "      <th>4</th>\n",
       "      <td>2018-01-26</td>\n",
       "      <td>1.22</td>\n",
       "      <td>1.31</td>\n",
       "      <td>1.33</td>\n",
       "      <td>1.14</td>\n",
       "      <td>2037570000</td>\n",
       "      <td>50706400000</td>\n",
       "    </tr>\n",
       "  </tbody>\n",
       "</table>\n",
       "</div>"
      ],
      "text/plain": [
       "        Date  Close  Open  High   Low      Volume   Market Cap\n",
       "0 2018-01-30   1.14  1.33  1.33  1.13  1134640000  51452400000\n",
       "1 2018-01-29   1.32  1.40  1.41  1.30  1073680000  54204300000\n",
       "2 2018-01-28   1.40  1.22  1.44  1.22  1327360000  47412500000\n",
       "3 2018-01-27   1.22  1.22  1.24  1.19   689101000  47180200000\n",
       "4 2018-01-26   1.22  1.31  1.33  1.14  2037570000  50706400000"
      ]
     },
     "execution_count": 21,
     "metadata": {},
     "output_type": "execute_result"
    }
   ],
   "source": [
    "ripple_market_info = pd.read_html(\"https://coinmarketcap.com/currencies/ripple/historical-data/?start=20130428&end=20180124\"+time.strftime(\"%Y%m%d\"))[0]\n",
    "# convert the date string to the correct date format\n",
    "ripple_market_info = ripple_market_info.assign(Date=pd.to_datetime(ripple_market_info['Date']))\n",
    "# when Volume is equal to '-' convert it to 0\n",
    "ripple_market_info.loc[ripple_market_info['Volume']==\"-\",'Volume']=0\n",
    "# convert to int\n",
    "ripple_market_info['Volume'] = ripple_market_info['Volume'].astype('int64')\n",
    "# look at the first few rows\n",
    "ripple_market_info=ripple_market_info[['Date','Close','Open','High','Low','Volume','Market Cap']]\n",
    "ripple_market_info.head()"
   ]
  },
  {
   "cell_type": "code",
   "execution_count": 22,
   "metadata": {
    "collapsed": true
   },
   "outputs": [],
   "source": [
    "ripple_market_info.drop(['Date'],inplace=True,axis=1)\n",
    "scaler_rip = MinMaxScaler(feature_range=(0, 1))\n",
    "scaled_rip = scaler_rip.fit_transform(ripple_market_info)\n",
    "#print(scaled_rip)"
   ]
  },
  {
   "cell_type": "code",
   "execution_count": 23,
   "metadata": {},
   "outputs": [
    {
     "name": "stdout",
     "output_type": "stream",
     "text": [
      "(1640, 12)\n",
      "(1641, 6)\n"
     ]
    }
   ],
   "source": [
    "reframed_rip = series_to_supervised(scaled_rip, 1, 1)\n",
    "print(reframed_rip.shape)\n",
    "print(ripple_market_info.shape)"
   ]
  },
  {
   "cell_type": "code",
   "execution_count": 24,
   "metadata": {},
   "outputs": [
    {
     "name": "stdout",
     "output_type": "stream",
     "text": [
      "(1490, 1, 6) (1490,) (140, 1, 6) (140,)\n"
     ]
    }
   ],
   "source": [
    "reframed_rip.drop(reframed_rip.columns[[7,8,9,10,11]], axis=1, inplace=True)\n",
    "values_rip=reframed_rip.values\n",
    "train_rip = values_rip[10:1500, :]\n",
    "test_rip = values_rip[1500:, :]\n",
    "# split into input and outputs\n",
    "train_X_rip, train_y_rip = train_rip[:, :-1], train_rip[:, -1]\n",
    "test_X_rip, test_y_rip = test_rip[:, :-1], test_rip[:, -1]\n",
    "# reshape input to be 3D [samples, timesteps, features]\n",
    "train_X_rip = train_X_rip.reshape((train_X_rip.shape[0], 1, train_X_rip.shape[1]))\n",
    "test_X_rip = test_X_rip.reshape((test_X_rip.shape[0], 1, test_X_rip.shape[1]))\n",
    "print(train_X_rip.shape, train_y_rip.shape, test_X_rip.shape, test_y_rip.shape)"
   ]
  },
  {
   "cell_type": "code",
   "execution_count": 25,
   "metadata": {
    "scrolled": true
   },
   "outputs": [
    {
     "name": "stdout",
     "output_type": "stream",
     "text": [
      "Train on 1490 samples, validate on 140 samples\n",
      "Epoch 1/50\n",
      " - 2s - loss: 0.0278 - val_loss: 0.0021\n",
      "Epoch 2/50\n",
      " - 0s - loss: 0.0208 - val_loss: 0.0017\n",
      "Epoch 3/50\n",
      " - 0s - loss: 0.0166 - val_loss: 0.0031\n",
      "Epoch 4/50\n",
      " - 0s - loss: 0.0108 - val_loss: 0.0016\n",
      "Epoch 5/50\n",
      " - 0s - loss: 0.0054 - val_loss: 0.0015\n",
      "Epoch 6/50\n",
      " - 0s - loss: 0.0046 - val_loss: 0.0013\n",
      "Epoch 7/50\n",
      " - 0s - loss: 0.0048 - val_loss: 0.0011\n",
      "Epoch 8/50\n",
      " - 0s - loss: 0.0048 - val_loss: 0.0015\n",
      "Epoch 9/50\n",
      " - 0s - loss: 0.0041 - val_loss: 0.0023\n",
      "Epoch 10/50\n",
      " - 0s - loss: 0.0045 - val_loss: 0.0025\n",
      "Epoch 11/50\n",
      " - 0s - loss: 0.0051 - val_loss: 0.0017\n",
      "Epoch 12/50\n",
      " - 0s - loss: 0.0044 - val_loss: 0.0024\n",
      "Epoch 13/50\n",
      " - 0s - loss: 0.0048 - val_loss: 7.0798e-04\n",
      "Epoch 14/50\n",
      " - 0s - loss: 0.0043 - val_loss: 0.0014\n",
      "Epoch 15/50\n",
      " - 0s - loss: 0.0043 - val_loss: 0.0017\n",
      "Epoch 16/50\n",
      " - 0s - loss: 0.0041 - val_loss: 0.0012\n",
      "Epoch 17/50\n",
      " - 0s - loss: 0.0033 - val_loss: 0.0014\n",
      "Epoch 18/50\n",
      " - 0s - loss: 0.0035 - val_loss: 0.0018\n",
      "Epoch 19/50\n",
      " - 0s - loss: 0.0041 - val_loss: 0.0012\n",
      "Epoch 20/50\n",
      " - 1s - loss: 0.0045 - val_loss: 0.0014\n",
      "Epoch 21/50\n",
      " - 1s - loss: 0.0033 - val_loss: 0.0016\n",
      "Epoch 22/50\n",
      " - 1s - loss: 0.0040 - val_loss: 0.0017\n",
      "Epoch 23/50\n",
      " - 1s - loss: 0.0035 - val_loss: 0.0010\n",
      "Epoch 24/50\n",
      " - 1s - loss: 0.0034 - val_loss: 0.0015\n",
      "Epoch 25/50\n",
      " - 1s - loss: 0.0035 - val_loss: 0.0017\n",
      "Epoch 26/50\n",
      " - 1s - loss: 0.0037 - val_loss: 0.0021\n",
      "Epoch 27/50\n",
      " - 1s - loss: 0.0041 - val_loss: 0.0016\n",
      "Epoch 28/50\n",
      " - 1s - loss: 0.0039 - val_loss: 0.0013\n",
      "Epoch 29/50\n",
      " - 1s - loss: 0.0048 - val_loss: 6.1087e-04\n",
      "Epoch 30/50\n",
      " - 1s - loss: 0.0035 - val_loss: 0.0014\n",
      "Epoch 31/50\n",
      " - 1s - loss: 0.0037 - val_loss: 0.0013\n",
      "Epoch 32/50\n",
      " - 1s - loss: 0.0035 - val_loss: 0.0012\n",
      "Epoch 33/50\n",
      " - 1s - loss: 0.0036 - val_loss: 0.0013\n",
      "Epoch 34/50\n",
      " - 1s - loss: 0.0037 - val_loss: 0.0019\n",
      "Epoch 35/50\n",
      " - 1s - loss: 0.0038 - val_loss: 0.0010\n",
      "Epoch 36/50\n",
      " - 1s - loss: 0.0047 - val_loss: 0.0016\n",
      "Epoch 37/50\n",
      " - 1s - loss: 0.0031 - val_loss: 0.0013\n",
      "Epoch 38/50\n",
      " - 1s - loss: 0.0033 - val_loss: 0.0013\n",
      "Epoch 39/50\n",
      " - 1s - loss: 0.0033 - val_loss: 0.0011\n",
      "Epoch 40/50\n",
      " - 1s - loss: 0.0037 - val_loss: 0.0012\n",
      "Epoch 41/50\n",
      " - 1s - loss: 0.0033 - val_loss: 0.0014\n",
      "Epoch 42/50\n",
      " - 1s - loss: 0.0043 - val_loss: 0.0010\n",
      "Epoch 43/50\n",
      " - 1s - loss: 0.0029 - val_loss: 0.0011\n",
      "Epoch 44/50\n",
      " - 1s - loss: 0.0032 - val_loss: 0.0014\n",
      "Epoch 45/50\n",
      " - 1s - loss: 0.0035 - val_loss: 0.0018\n",
      "Epoch 46/50\n",
      " - 1s - loss: 0.0040 - val_loss: 0.0014\n",
      "Epoch 47/50\n",
      " - 1s - loss: 0.0035 - val_loss: 0.0012\n",
      "Epoch 48/50\n",
      " - 1s - loss: 0.0036 - val_loss: 0.0013\n",
      "Epoch 49/50\n",
      " - 1s - loss: 0.0036 - val_loss: 9.4682e-04\n",
      "Epoch 50/50\n",
      " - 1s - loss: 0.0045 - val_loss: 5.8918e-04\n"
     ]
    },
    {
     "data": {
      "image/png": "[encoded data removed]",
      "text/plain": [
       "<matplotlib.figure.Figure at 0x1fa53b797f0>"
      ]
     },
     "metadata": {},
     "output_type": "display_data"
    }
   ],
   "source": [
    "# design network\n",
    "model = Sequential()\n",
    "model.add(LSTM(75, input_shape=(train_X_rip.shape[1], train_X_rip.shape[2])))\n",
    "model.add(Dense(1))\n",
    "model.compile(loss='mae', optimizer='adam')\n",
    "history = model.fit(train_X_rip, train_y_rip, epochs=50, batch_size=32, validation_data=(test_X_rip, test_y_rip), verbose=2, shuffle=False)\n",
    "# plot history\n",
    "pyplot.plot(history.history['loss'], label='train')\n",
    "pyplot.plot(history.history['val_loss'], label='test')\n",
    "pyplot.legend()\n",
    "pyplot.show()"
   ]
  },
  {
   "cell_type": "code",
   "execution_count": 26,
   "metadata": {},
   "outputs": [
    {
     "name": "stdout",
     "output_type": "stream",
     "text": [
      "Test RMSE: 0.004\n"
     ]
    }
   ],
   "source": [
    "# make a prediction\n",
    "yhat_rip = model.predict(test_X_rip)\n",
    "test_X_rip = test_X_rip.reshape((test_X_rip.shape[0], test_X_rip.shape[2]))\n",
    "# invert scaling for forecast\n",
    "inv_yhat_rip = np.concatenate((yhat_rip, test_X_rip[:, 1:]), axis=1)\n",
    "inv_yhat_rip = scaler_rip.inverse_transform(inv_yhat_rip)\n",
    "inv_yhat_rip = inv_yhat_rip[:,0]\n",
    "# invert scaling for actual\n",
    "test_y_rip = test_y_rip.reshape((len(test_y_rip), 1))\n",
    "inv_y_rip = np.concatenate((test_y_rip, test_X_rip[:, 1:]), axis=1)\n",
    "inv_y_rip = scaler_rip.inverse_transform(inv_y_rip)\n",
    "inv_y_rip = inv_y_rip[:,0]\n",
    "# calculate RMSE\n",
    "rmse = sqrt(mean_squared_error(inv_y_rip, inv_yhat_rip))\n",
    "print('Test RMSE: %.3f' % rmse)"
   ]
  },
  {
   "cell_type": "markdown",
   "metadata": {},
   "source": [
    "For Ripple our RMSE is really close to zero, which is good according to our simple model.\n",
    "\n",
    "Now let's make some prediction. This time we are taking data from 8 January to 14 January,2018 so the predicted prices will be from the day 9 January to 15 January ,2018. At last we will compare the real prices and the predicted prices with difference and percentage change between real and predicted prices. "
   ]
  },
  {
   "cell_type": "code",
   "execution_count": 27,
   "metadata": {
    "collapsed": true
   },
   "outputs": [],
   "source": [
    "data_rip=np.array([[1.22 ,1.22 ,1.24 ,1.19 ,689101000 ,47180200000],\n",
    "           [1.22 ,1.31 ,1.33 ,1.14 ,2037570000 ,50706400000],\n",
    "           [1.31 ,1.36 ,1.38 ,1.29 ,986068000 ,52811100000],\n",
    "           [1.36,1.35 ,1.42 ,1.31 ,1853440000 ,52380100000],\n",
    "           [1.34 ,1.35 ,1.43 ,1.20 ,2977080000 ,52421300000],\n",
    "           [1.36 ,1.39 ,1.43 ,1.16 ,2642510000 ,53909800000],\n",
    "           [1.38 ,1.58 ,1.58 ,1.34 ,2840750000 ,61061900000]])\n",
    "a_rip=scaler_rip.fit_transform(data_rip)\n",
    "pre_rip=model.predict(a_rip.reshape(data_rip.shape[0],1,6))\n",
    "phat_rip=np.concatenate((pre_rip,a_rip[:,1:]),axis=1)\n",
    "#print(phat)\n",
    "predicted_rip=scaler_rip.inverse_transform(phat_rip)"
   ]
  },
  {
   "cell_type": "code",
   "execution_count": 28,
   "metadata": {},
   "outputs": [
    {
     "name": "stdout",
     "output_type": "stream",
     "text": [
      "        Date  real_close  predicted_close  Difference  Percentage_change\n",
      "0 2018-01-28        1.40         1.228620    0.171380          13.949009\n",
      "1 2018-01-27        1.22         1.249621    0.029621           2.370432\n",
      "2 2018-01-26        1.22         1.303665    0.083665           6.417643\n",
      "3 2018-01-25        1.31         1.327587    0.017587           1.324758\n",
      "4 2018-01-24        1.36         1.311279    0.048721           3.715560\n",
      "5 2018-01-23        1.34         1.312213    0.027787           2.117564\n",
      "6 2018-01-22        1.36         1.384702    0.024702           1.783953\n"
     ]
    }
   ],
   "source": [
    "real_close_rip=[1.40,1.22,1.22,1.31,1.36,1.34,1.36]\n",
    "predicted_close_rip=[]\n",
    "difference_rip=[]\n",
    "pr_change_rip=[]\n",
    "dates=pd.date_range(start='01-22-2018',end='01-28-2018',freq='D').sort_values(ascending=False)\n",
    "#print(dates)\n",
    "for i in range(data_rip.shape[0]):\n",
    "    predicted_close_rip.append(predicted_rip[i,0])\n",
    "    difference_rip.append(abs(predicted_rip[i,0]-real_close_rip[i]))\n",
    "    pr_change_rip.append((abs(predicted_rip[i,0]-real_close_rip[i])/predicted_rip[i,0])*100)\n",
    "val=np.array(pr_change_rip)\n",
    "val=np.mean(val,axis=0)\n",
    "#print(val)\n",
    "df_rip=pd.DataFrame({'Date':dates})\n",
    "df_rip['real_close']=real_close_rip\n",
    "df_rip['predicted_close']=predicted_close_rip\n",
    "df_rip['Difference']=difference_rip\n",
    "df_rip['Percentage_change']=pr_change_rip\n",
    "print(df_rip)"
   ]
  },
  {
   "cell_type": "markdown",
   "metadata": {
    "collapsed": true
   },
   "source": [
    "In the above dataframe we can see the real close prices and the predicted prices are realy close to each other.The highest percnetage change is 14% approx. which is really good as per the amount of data and the size of model that we have.\n",
    "\n",
    "This way we can now predict the future close price of three major cryptocurencies with ease. But remember this is just simplest approach that we can go for. Predicting the prices is really dificult task as lot of factors in world determines the price of any curency. So we can not gurrentee that our approach is best or will give us best results. "
   ]
  }
 ],
 "metadata": {
  "kernelspec": {
   "display_name": "Python 3",
   "language": "python",
   "name": "python3"
  },
  "language_info": {
   "codemirror_mode": {
    "name": "ipython",
    "version": 3
   },
   "file_extension": ".py",
   "mimetype": "text/x-python",
   "name": "python",
   "nbconvert_exporter": "python",
   "pygments_lexer": "ipython3",
   "version": "3.6.3"
  }
 },
 "nbformat": 4,
 "nbformat_minor": 2
}
